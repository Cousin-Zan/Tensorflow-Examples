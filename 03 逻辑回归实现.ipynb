{
 "cells": [
  {
   "cell_type": "code",
   "execution_count": 1,
   "metadata": {},
   "outputs": [],
   "source": [
    "import tensorflow as tf"
   ]
  },
  {
   "cell_type": "code",
   "execution_count": 2,
   "metadata": {},
   "outputs": [
    {
     "output_type": "stream",
     "name": "stdout",
     "text": [
      "Tensorflow Version: 2.3.0\n"
     ]
    }
   ],
   "source": [
    "print('Tensorflow Version: {}'.format(tf.__version__))"
   ]
  },
  {
   "cell_type": "code",
   "execution_count": 3,
   "metadata": {},
   "outputs": [],
   "source": [
    "import pandas as pd\n",
    "import numpy as np\n",
    "import matplotlib.pyplot as plt\n",
    "%matplotlib inline"
   ]
  },
  {
   "cell_type": "code",
   "execution_count": 4,
   "metadata": {},
   "outputs": [],
   "source": [
    "data = pd.read_csv('dataset/credit-a.csv', header=None)"
   ]
  },
  {
   "cell_type": "code",
   "execution_count": 5,
   "metadata": {},
   "outputs": [
    {
     "output_type": "execute_result",
     "data": {
      "text/plain": [
       "   0      1      2   3   4   5   6     7   8   9   10  11  12   13     14  15\n",
       "0   0  30.83  0.000   0   0   9   0  1.25   0   0   1   1   0  202    0.0  -1\n",
       "1   1  58.67  4.460   0   0   8   1  3.04   0   0   6   1   0   43  560.0  -1\n",
       "2   1  24.50  0.500   0   0   8   1  1.50   0   1   0   1   0  280  824.0  -1\n",
       "3   0  27.83  1.540   0   0   9   0  3.75   0   0   5   0   0  100    3.0  -1\n",
       "4   0  20.17  5.625   0   0   9   0  1.71   0   1   0   1   2  120    0.0  -1"
      ],
      "text/html": "<div>\n<style scoped>\n    .dataframe tbody tr th:only-of-type {\n        vertical-align: middle;\n    }\n\n    .dataframe tbody tr th {\n        vertical-align: top;\n    }\n\n    .dataframe thead th {\n        text-align: right;\n    }\n</style>\n<table border=\"1\" class=\"dataframe\">\n  <thead>\n    <tr style=\"text-align: right;\">\n      <th></th>\n      <th>0</th>\n      <th>1</th>\n      <th>2</th>\n      <th>3</th>\n      <th>4</th>\n      <th>5</th>\n      <th>6</th>\n      <th>7</th>\n      <th>8</th>\n      <th>9</th>\n      <th>10</th>\n      <th>11</th>\n      <th>12</th>\n      <th>13</th>\n      <th>14</th>\n      <th>15</th>\n    </tr>\n  </thead>\n  <tbody>\n    <tr>\n      <th>0</th>\n      <td>0</td>\n      <td>30.83</td>\n      <td>0.000</td>\n      <td>0</td>\n      <td>0</td>\n      <td>9</td>\n      <td>0</td>\n      <td>1.25</td>\n      <td>0</td>\n      <td>0</td>\n      <td>1</td>\n      <td>1</td>\n      <td>0</td>\n      <td>202</td>\n      <td>0.0</td>\n      <td>-1</td>\n    </tr>\n    <tr>\n      <th>1</th>\n      <td>1</td>\n      <td>58.67</td>\n      <td>4.460</td>\n      <td>0</td>\n      <td>0</td>\n      <td>8</td>\n      <td>1</td>\n      <td>3.04</td>\n      <td>0</td>\n      <td>0</td>\n      <td>6</td>\n      <td>1</td>\n      <td>0</td>\n      <td>43</td>\n      <td>560.0</td>\n      <td>-1</td>\n    </tr>\n    <tr>\n      <th>2</th>\n      <td>1</td>\n      <td>24.50</td>\n      <td>0.500</td>\n      <td>0</td>\n      <td>0</td>\n      <td>8</td>\n      <td>1</td>\n      <td>1.50</td>\n      <td>0</td>\n      <td>1</td>\n      <td>0</td>\n      <td>1</td>\n      <td>0</td>\n      <td>280</td>\n      <td>824.0</td>\n      <td>-1</td>\n    </tr>\n    <tr>\n      <th>3</th>\n      <td>0</td>\n      <td>27.83</td>\n      <td>1.540</td>\n      <td>0</td>\n      <td>0</td>\n      <td>9</td>\n      <td>0</td>\n      <td>3.75</td>\n      <td>0</td>\n      <td>0</td>\n      <td>5</td>\n      <td>0</td>\n      <td>0</td>\n      <td>100</td>\n      <td>3.0</td>\n      <td>-1</td>\n    </tr>\n    <tr>\n      <th>4</th>\n      <td>0</td>\n      <td>20.17</td>\n      <td>5.625</td>\n      <td>0</td>\n      <td>0</td>\n      <td>9</td>\n      <td>0</td>\n      <td>1.71</td>\n      <td>0</td>\n      <td>1</td>\n      <td>0</td>\n      <td>1</td>\n      <td>2</td>\n      <td>120</td>\n      <td>0.0</td>\n      <td>-1</td>\n    </tr>\n  </tbody>\n</table>\n</div>"
     },
     "metadata": {},
     "execution_count": 5
    }
   ],
   "source": [
    "data.head()"
   ]
  },
  {
   "cell_type": "code",
   "execution_count": 6,
   "metadata": {},
   "outputs": [
    {
     "output_type": "execute_result",
     "data": {
      "text/plain": [
       " 1    357\n",
       "-1    296\n",
       "Name: 15, dtype: int64"
      ]
     },
     "metadata": {},
     "execution_count": 6
    }
   ],
   "source": [
    "data.iloc[:, -1].value_counts()"
   ]
  },
  {
   "cell_type": "code",
   "execution_count": 7,
   "metadata": {},
   "outputs": [],
   "source": [
    "x = data.iloc[:, :-1]\n",
    "y = data.iloc[:, -1].replace(-1, 0)"
   ]
  },
  {
   "cell_type": "code",
   "execution_count": 8,
   "metadata": {},
   "outputs": [],
   "source": [
    "model = tf.keras.Sequential()"
   ]
  },
  {
   "cell_type": "code",
   "execution_count": 9,
   "metadata": {},
   "outputs": [],
   "source": [
    "model.add(tf.keras.layers.Dense(4, input_shape=(15,), activation='relu'))\n",
    "model.add(tf.keras.layers.Dense(4, activation='relu'))\n",
    "model.add(tf.keras.layers.Dense(1, activation='sigmoid'))"
   ]
  },
  {
   "cell_type": "code",
   "execution_count": 10,
   "metadata": {},
   "outputs": [
    {
     "output_type": "stream",
     "name": "stdout",
     "text": [
      "Model: \"sequential\"\n_________________________________________________________________\nLayer (type)                 Output Shape              Param #   \n=================================================================\ndense (Dense)                (None, 4)                 64        \n_________________________________________________________________\ndense_1 (Dense)              (None, 4)                 20        \n_________________________________________________________________\ndense_2 (Dense)              (None, 1)                 5         \n=================================================================\nTotal params: 89\nTrainable params: 89\nNon-trainable params: 0\n_________________________________________________________________\n"
     ]
    }
   ],
   "source": [
    "model.summary()"
   ]
  },
  {
   "cell_type": "code",
   "execution_count": 11,
   "metadata": {},
   "outputs": [],
   "source": [
    "model.compile(optimizer='adam',\n",
    "              loss='binary_crossentropy',\n",
    "              metrics=['acc']\n",
    ")"
   ]
  },
  {
   "cell_type": "code",
   "execution_count": 12,
   "metadata": {},
   "outputs": [
    {
     "output_type": "stream",
     "name": "stdout",
     "text": [
      "Epoch 1/100\n",
      "21/21 [==============================] - 0s 4ms/step - loss: 16.5928 - acc: 0.4533\n",
      "Epoch 2/100\n",
      "21/21 [==============================] - 0s 5ms/step - loss: 13.4588 - acc: 0.4487\n",
      "Epoch 3/100\n",
      "21/21 [==============================] - 0s 4ms/step - loss: 11.0898 - acc: 0.4548\n",
      "Epoch 4/100\n",
      "21/21 [==============================] - 0s 4ms/step - loss: 9.1753 - acc: 0.4640\n",
      "Epoch 5/100\n",
      "21/21 [==============================] - 0s 5ms/step - loss: 7.7183 - acc: 0.4655\n",
      "Epoch 6/100\n",
      "21/21 [==============================] - 0s 5ms/step - loss: 6.6160 - acc: 0.4594\n",
      "Epoch 7/100\n",
      "21/21 [==============================] - 0s 5ms/step - loss: 5.6894 - acc: 0.4518\n",
      "Epoch 8/100\n",
      "21/21 [==============================] - 0s 4ms/step - loss: 4.9272 - acc: 0.4518\n",
      "Epoch 9/100\n",
      "21/21 [==============================] - 0s 4ms/step - loss: 4.2796 - acc: 0.4548\n",
      "Epoch 10/100\n",
      "21/21 [==============================] - 0s 4ms/step - loss: 3.7588 - acc: 0.4594\n",
      "Epoch 11/100\n",
      "21/21 [==============================] - 0s 5ms/step - loss: 3.3100 - acc: 0.4686\n",
      "Epoch 12/100\n",
      "21/21 [==============================] - 0s 5ms/step - loss: 2.9209 - acc: 0.4763\n",
      "Epoch 13/100\n",
      "21/21 [==============================] - 0s 5ms/step - loss: 2.5934 - acc: 0.4717\n",
      "Epoch 14/100\n",
      "21/21 [==============================] - 0s 4ms/step - loss: 2.3494 - acc: 0.4824\n",
      "Epoch 15/100\n",
      "21/21 [==============================] - 0s 4ms/step - loss: 2.1171 - acc: 0.5008\n",
      "Epoch 16/100\n",
      "21/21 [==============================] - 0s 5ms/step - loss: 1.9047 - acc: 0.5268\n",
      "Epoch 17/100\n",
      "21/21 [==============================] - 0s 4ms/step - loss: 1.7461 - acc: 0.5651\n",
      "Epoch 18/100\n",
      "21/21 [==============================] - 0s 4ms/step - loss: 1.5943 - acc: 0.6080\n",
      "Epoch 19/100\n",
      "21/21 [==============================] - 0s 4ms/step - loss: 1.4528 - acc: 0.6294\n",
      "Epoch 20/100\n",
      "21/21 [==============================] - 0s 4ms/step - loss: 1.3329 - acc: 0.6631\n",
      "Epoch 21/100\n",
      "21/21 [==============================] - 0s 4ms/step - loss: 1.2301 - acc: 0.6646\n",
      "Epoch 22/100\n",
      "21/21 [==============================] - 0s 4ms/step - loss: 1.1430 - acc: 0.6753\n",
      "Epoch 23/100\n",
      "21/21 [==============================] - 0s 4ms/step - loss: 1.0530 - acc: 0.6738\n",
      "Epoch 24/100\n",
      "21/21 [==============================] - 0s 5ms/step - loss: 0.9819 - acc: 0.6723\n",
      "Epoch 25/100\n",
      "21/21 [==============================] - 0s 6ms/step - loss: 0.9169 - acc: 0.6708\n",
      "Epoch 26/100\n",
      "21/21 [==============================] - 0s 5ms/step - loss: 0.8701 - acc: 0.6708\n",
      "Epoch 27/100\n",
      "21/21 [==============================] - 0s 4ms/step - loss: 0.8272 - acc: 0.6723\n",
      "Epoch 28/100\n",
      "21/21 [==============================] - 0s 4ms/step - loss: 0.7927 - acc: 0.6738\n",
      "Epoch 29/100\n",
      "21/21 [==============================] - 0s 4ms/step - loss: 0.7609 - acc: 0.6738\n",
      "Epoch 30/100\n",
      "21/21 [==============================] - 0s 4ms/step - loss: 0.7357 - acc: 0.6738\n",
      "Epoch 31/100\n",
      "21/21 [==============================] - 0s 5ms/step - loss: 0.7160 - acc: 0.6723\n",
      "Epoch 32/100\n",
      "21/21 [==============================] - 0s 5ms/step - loss: 0.7042 - acc: 0.6677\n",
      "Epoch 33/100\n",
      "21/21 [==============================] - 0s 4ms/step - loss: 0.6940 - acc: 0.6631\n",
      "Epoch 34/100\n",
      "21/21 [==============================] - 0s 4ms/step - loss: 0.6865 - acc: 0.6708\n",
      "Epoch 35/100\n",
      "21/21 [==============================] - 0s 4ms/step - loss: 0.6783 - acc: 0.6646\n",
      "Epoch 36/100\n",
      "21/21 [==============================] - 0s 6ms/step - loss: 0.6719 - acc: 0.6662\n",
      "Epoch 37/100\n",
      "21/21 [==============================] - 0s 4ms/step - loss: 0.6656 - acc: 0.6662\n",
      "Epoch 38/100\n",
      "21/21 [==============================] - 0s 4ms/step - loss: 0.6593 - acc: 0.6646\n",
      "Epoch 39/100\n",
      "21/21 [==============================] - 0s 4ms/step - loss: 0.6556 - acc: 0.6616\n",
      "Epoch 40/100\n",
      "21/21 [==============================] - 0s 4ms/step - loss: 0.6512 - acc: 0.6631\n",
      "Epoch 41/100\n",
      "21/21 [==============================] - 0s 5ms/step - loss: 0.6456 - acc: 0.6646\n",
      "Epoch 42/100\n",
      "21/21 [==============================] - 0s 4ms/step - loss: 0.6420 - acc: 0.6616\n",
      "Epoch 43/100\n",
      "21/21 [==============================] - 0s 5ms/step - loss: 0.6394 - acc: 0.6585\n",
      "Epoch 44/100\n",
      "21/21 [==============================] - 0s 5ms/step - loss: 0.6359 - acc: 0.6616\n",
      "Epoch 45/100\n",
      "21/21 [==============================] - 0s 5ms/step - loss: 0.6314 - acc: 0.6585\n",
      "Epoch 46/100\n",
      "21/21 [==============================] - 0s 4ms/step - loss: 0.6248 - acc: 0.6554\n",
      "Epoch 47/100\n",
      "21/21 [==============================] - 0s 4ms/step - loss: 0.6227 - acc: 0.6891\n",
      "Epoch 48/100\n",
      "21/21 [==============================] - 0s 4ms/step - loss: 0.6201 - acc: 0.6891\n",
      "Epoch 49/100\n",
      "21/21 [==============================] - 0s 5ms/step - loss: 0.6190 - acc: 0.6845\n",
      "Epoch 50/100\n",
      "21/21 [==============================] - 0s 4ms/step - loss: 0.6150 - acc: 0.6876\n",
      "Epoch 51/100\n",
      "21/21 [==============================] - 0s 4ms/step - loss: 0.6102 - acc: 0.6922\n",
      "Epoch 52/100\n",
      "21/21 [==============================] - 0s 5ms/step - loss: 0.6075 - acc: 0.6891\n",
      "Epoch 53/100\n",
      "21/21 [==============================] - 0s 4ms/step - loss: 0.6027 - acc: 0.6953\n",
      "Epoch 54/100\n",
      "21/21 [==============================] - 0s 5ms/step - loss: 0.6019 - acc: 0.6968\n",
      "Epoch 55/100\n",
      "21/21 [==============================] - 0s 4ms/step - loss: 0.6007 - acc: 0.6998\n",
      "Epoch 56/100\n",
      "21/21 [==============================] - 0s 4ms/step - loss: 0.5983 - acc: 0.7029\n",
      "Epoch 57/100\n",
      "21/21 [==============================] - 0s 4ms/step - loss: 0.5969 - acc: 0.7029\n",
      "Epoch 58/100\n",
      "21/21 [==============================] - 0s 4ms/step - loss: 0.5958 - acc: 0.7014\n",
      "Epoch 59/100\n",
      "21/21 [==============================] - 0s 4ms/step - loss: 0.5957 - acc: 0.6998\n",
      "Epoch 60/100\n",
      "21/21 [==============================] - 0s 6ms/step - loss: 0.5936 - acc: 0.7060\n",
      "Epoch 61/100\n",
      "21/21 [==============================] - 0s 4ms/step - loss: 0.5939 - acc: 0.7060\n",
      "Epoch 62/100\n",
      "21/21 [==============================] - 0s 4ms/step - loss: 0.5929 - acc: 0.7060\n",
      "Epoch 63/100\n",
      "21/21 [==============================] - 0s 4ms/step - loss: 0.5920 - acc: 0.7075\n",
      "Epoch 64/100\n",
      "21/21 [==============================] - 0s 4ms/step - loss: 0.5915 - acc: 0.7090\n",
      "Epoch 65/100\n",
      "21/21 [==============================] - 0s 5ms/step - loss: 0.5900 - acc: 0.7136\n",
      "Epoch 66/100\n",
      "21/21 [==============================] - 0s 4ms/step - loss: 0.5912 - acc: 0.7136\n",
      "Epoch 67/100\n",
      "21/21 [==============================] - 0s 4ms/step - loss: 0.5883 - acc: 0.7136\n",
      "Epoch 68/100\n",
      "21/21 [==============================] - 0s 4ms/step - loss: 0.5879 - acc: 0.7152\n",
      "Epoch 69/100\n",
      "21/21 [==============================] - 0s 5ms/step - loss: 0.5870 - acc: 0.7167\n",
      "Epoch 70/100\n",
      "21/21 [==============================] - 0s 4ms/step - loss: 0.5878 - acc: 0.7136\n",
      "Epoch 71/100\n",
      "21/21 [==============================] - 0s 4ms/step - loss: 0.5879 - acc: 0.7152\n",
      "Epoch 72/100\n",
      "21/21 [==============================] - 0s 4ms/step - loss: 0.5863 - acc: 0.7152\n",
      "Epoch 73/100\n",
      "21/21 [==============================] - 0s 5ms/step - loss: 0.5857 - acc: 0.7152\n",
      "Epoch 74/100\n",
      "21/21 [==============================] - 0s 4ms/step - loss: 0.5846 - acc: 0.7198\n",
      "Epoch 75/100\n",
      "21/21 [==============================] - 0s 4ms/step - loss: 0.5843 - acc: 0.7182\n",
      "Epoch 76/100\n",
      "21/21 [==============================] - 0s 4ms/step - loss: 0.5841 - acc: 0.7182\n",
      "Epoch 77/100\n",
      "21/21 [==============================] - 0s 4ms/step - loss: 0.5840 - acc: 0.7167\n",
      "Epoch 78/100\n",
      "21/21 [==============================] - 0s 4ms/step - loss: 0.5848 - acc: 0.7121\n",
      "Epoch 79/100\n",
      "21/21 [==============================] - 0s 4ms/step - loss: 0.5825 - acc: 0.7182\n",
      "Epoch 80/100\n",
      "21/21 [==============================] - 0s 4ms/step - loss: 0.5818 - acc: 0.7213\n",
      "Epoch 81/100\n",
      "21/21 [==============================] - 0s 4ms/step - loss: 0.5812 - acc: 0.7198\n",
      "Epoch 82/100\n",
      "21/21 [==============================] - 0s 4ms/step - loss: 0.5826 - acc: 0.7182\n",
      "Epoch 83/100\n",
      "21/21 [==============================] - 0s 4ms/step - loss: 0.5806 - acc: 0.7213\n",
      "Epoch 84/100\n",
      "21/21 [==============================] - 0s 4ms/step - loss: 0.5812 - acc: 0.7182\n",
      "Epoch 85/100\n",
      "21/21 [==============================] - 0s 4ms/step - loss: 0.5797 - acc: 0.7213\n",
      "Epoch 86/100\n",
      "21/21 [==============================] - 0s 4ms/step - loss: 0.5796 - acc: 0.7182\n",
      "Epoch 87/100\n",
      "21/21 [==============================] - 0s 4ms/step - loss: 0.5811 - acc: 0.7167\n",
      "Epoch 88/100\n",
      "21/21 [==============================] - 0s 4ms/step - loss: 0.5783 - acc: 0.7243\n",
      "Epoch 89/100\n",
      "21/21 [==============================] - 0s 4ms/step - loss: 0.5788 - acc: 0.7213\n",
      "Epoch 90/100\n",
      "21/21 [==============================] - 0s 4ms/step - loss: 0.5779 - acc: 0.7198\n",
      "Epoch 91/100\n",
      "21/21 [==============================] - 0s 4ms/step - loss: 0.5785 - acc: 0.7198\n",
      "Epoch 92/100\n",
      "21/21 [==============================] - 0s 4ms/step - loss: 0.5788 - acc: 0.7213\n",
      "Epoch 93/100\n",
      "21/21 [==============================] - 0s 4ms/step - loss: 0.5774 - acc: 0.7243\n",
      "Epoch 94/100\n",
      "21/21 [==============================] - 0s 4ms/step - loss: 0.5765 - acc: 0.7243\n",
      "Epoch 95/100\n",
      "21/21 [==============================] - 0s 4ms/step - loss: 0.5761 - acc: 0.7259\n",
      "Epoch 96/100\n",
      "21/21 [==============================] - 0s 4ms/step - loss: 0.5769 - acc: 0.7228\n",
      "Epoch 97/100\n",
      "21/21 [==============================] - 0s 4ms/step - loss: 0.5758 - acc: 0.7243\n",
      "Epoch 98/100\n",
      "21/21 [==============================] - 0s 5ms/step - loss: 0.5819 - acc: 0.7106\n",
      "Epoch 99/100\n",
      "21/21 [==============================] - 0s 4ms/step - loss: 0.5794 - acc: 0.7198\n",
      "Epoch 100/100\n",
      "21/21 [==============================] - 0s 4ms/step - loss: 0.5787 - acc: 0.7198\n"
     ]
    }
   ],
   "source": [
    "history = model.fit(x, y, epochs=100)"
   ]
  },
  {
   "cell_type": "code",
   "execution_count": 13,
   "metadata": {},
   "outputs": [
    {
     "output_type": "execute_result",
     "data": {
      "text/plain": [
       "dict_keys(['loss', 'acc'])"
      ]
     },
     "metadata": {},
     "execution_count": 13
    }
   ],
   "source": [
    "history.history.keys()"
   ]
  },
  {
   "cell_type": "code",
   "execution_count": 14,
   "metadata": {},
   "outputs": [
    {
     "output_type": "execute_result",
     "data": {
      "text/plain": [
       "[<matplotlib.lines.Line2D at 0x1be43a276a0>]"
      ]
     },
     "metadata": {},
     "execution_count": 14
    },
    {
     "output_type": "display_data",
     "data": {
      "text/plain": "<Figure size 432x288 with 1 Axes>",
      "image/svg+xml": "<?xml version=\"1.0\" encoding=\"utf-8\" standalone=\"no\"?>\r\n<!DOCTYPE svg PUBLIC \"-//W3C//DTD SVG 1.1//EN\"\r\n  \"http://www.w3.org/Graphics/SVG/1.1/DTD/svg11.dtd\">\r\n<!-- Created with matplotlib (https://matplotlib.org/) -->\r\n<svg height=\"248.518125pt\" version=\"1.1\" viewBox=\"0 0 368.925 248.518125\" width=\"368.925pt\" xmlns=\"http://www.w3.org/2000/svg\" xmlns:xlink=\"http://www.w3.org/1999/xlink\">\r\n <metadata>\r\n  <rdf:RDF xmlns:cc=\"http://creativecommons.org/ns#\" xmlns:dc=\"http://purl.org/dc/elements/1.1/\" xmlns:rdf=\"http://www.w3.org/1999/02/22-rdf-syntax-ns#\">\r\n   <cc:Work>\r\n    <dc:type rdf:resource=\"http://purl.org/dc/dcmitype/StillImage\"/>\r\n    <dc:date>2021-01-24T20:02:03.724470</dc:date>\r\n    <dc:format>image/svg+xml</dc:format>\r\n    <dc:creator>\r\n     <cc:Agent>\r\n      <dc:title>Matplotlib v3.3.1, https://matplotlib.org/</dc:title>\r\n     </cc:Agent>\r\n    </dc:creator>\r\n   </cc:Work>\r\n  </rdf:RDF>\r\n </metadata>\r\n <defs>\r\n  <style type=\"text/css\">*{stroke-linecap:butt;stroke-linejoin:round;}</style>\r\n </defs>\r\n <g id=\"figure_1\">\r\n  <g id=\"patch_1\">\r\n   <path d=\"M -0 248.518125 \r\nL 368.925 248.518125 \r\nL 368.925 0 \r\nL -0 0 \r\nz\r\n\" style=\"fill:none;\"/>\r\n  </g>\r\n  <g id=\"axes_1\">\r\n   <g id=\"patch_2\">\r\n    <path d=\"M 26.925 224.64 \r\nL 361.725 224.64 \r\nL 361.725 7.2 \r\nL 26.925 7.2 \r\nz\r\n\" style=\"fill:#ffffff;\"/>\r\n   </g>\r\n   <g id=\"matplotlib.axis_1\">\r\n    <g id=\"xtick_1\">\r\n     <g id=\"line2d_1\">\r\n      <defs>\r\n       <path d=\"M 0 0 \r\nL 0 3.5 \r\n\" id=\"mfbf66a052e\" style=\"stroke:#000000;stroke-width:0.8;\"/>\r\n      </defs>\r\n      <g>\r\n       <use style=\"stroke:#000000;stroke-width:0.8;\" x=\"42.143182\" xlink:href=\"#mfbf66a052e\" y=\"224.64\"/>\r\n      </g>\r\n     </g>\r\n     <g id=\"text_1\">\r\n      <!-- 0 -->\r\n      <g transform=\"translate(38.961932 239.238437)scale(0.1 -0.1)\">\r\n       <defs>\r\n        <path d=\"M 31.78125 66.40625 \r\nQ 24.171875 66.40625 20.328125 58.90625 \r\nQ 16.5 51.421875 16.5 36.375 \r\nQ 16.5 21.390625 20.328125 13.890625 \r\nQ 24.171875 6.390625 31.78125 6.390625 \r\nQ 39.453125 6.390625 43.28125 13.890625 \r\nQ 47.125 21.390625 47.125 36.375 \r\nQ 47.125 51.421875 43.28125 58.90625 \r\nQ 39.453125 66.40625 31.78125 66.40625 \r\nz\r\nM 31.78125 74.21875 \r\nQ 44.046875 74.21875 50.515625 64.515625 \r\nQ 56.984375 54.828125 56.984375 36.375 \r\nQ 56.984375 17.96875 50.515625 8.265625 \r\nQ 44.046875 -1.421875 31.78125 -1.421875 \r\nQ 19.53125 -1.421875 13.0625 8.265625 \r\nQ 6.59375 17.96875 6.59375 36.375 \r\nQ 6.59375 54.828125 13.0625 64.515625 \r\nQ 19.53125 74.21875 31.78125 74.21875 \r\nz\r\n\" id=\"DejaVuSans-48\"/>\r\n       </defs>\r\n       <use xlink:href=\"#DejaVuSans-48\"/>\r\n      </g>\r\n     </g>\r\n    </g>\r\n    <g id=\"xtick_2\">\r\n     <g id=\"line2d_2\">\r\n      <g>\r\n       <use style=\"stroke:#000000;stroke-width:0.8;\" x=\"103.630785\" xlink:href=\"#mfbf66a052e\" y=\"224.64\"/>\r\n      </g>\r\n     </g>\r\n     <g id=\"text_2\">\r\n      <!-- 20 -->\r\n      <g transform=\"translate(97.268285 239.238437)scale(0.1 -0.1)\">\r\n       <defs>\r\n        <path d=\"M 19.1875 8.296875 \r\nL 53.609375 8.296875 \r\nL 53.609375 0 \r\nL 7.328125 0 \r\nL 7.328125 8.296875 \r\nQ 12.9375 14.109375 22.625 23.890625 \r\nQ 32.328125 33.6875 34.8125 36.53125 \r\nQ 39.546875 41.84375 41.421875 45.53125 \r\nQ 43.3125 49.21875 43.3125 52.78125 \r\nQ 43.3125 58.59375 39.234375 62.25 \r\nQ 35.15625 65.921875 28.609375 65.921875 \r\nQ 23.96875 65.921875 18.8125 64.3125 \r\nQ 13.671875 62.703125 7.8125 59.421875 \r\nL 7.8125 69.390625 \r\nQ 13.765625 71.78125 18.9375 73 \r\nQ 24.125 74.21875 28.421875 74.21875 \r\nQ 39.75 74.21875 46.484375 68.546875 \r\nQ 53.21875 62.890625 53.21875 53.421875 \r\nQ 53.21875 48.921875 51.53125 44.890625 \r\nQ 49.859375 40.875 45.40625 35.40625 \r\nQ 44.1875 33.984375 37.640625 27.21875 \r\nQ 31.109375 20.453125 19.1875 8.296875 \r\nz\r\n\" id=\"DejaVuSans-50\"/>\r\n       </defs>\r\n       <use xlink:href=\"#DejaVuSans-50\"/>\r\n       <use x=\"63.623047\" xlink:href=\"#DejaVuSans-48\"/>\r\n      </g>\r\n     </g>\r\n    </g>\r\n    <g id=\"xtick_3\">\r\n     <g id=\"line2d_3\">\r\n      <g>\r\n       <use style=\"stroke:#000000;stroke-width:0.8;\" x=\"165.118388\" xlink:href=\"#mfbf66a052e\" y=\"224.64\"/>\r\n      </g>\r\n     </g>\r\n     <g id=\"text_3\">\r\n      <!-- 40 -->\r\n      <g transform=\"translate(158.755888 239.238437)scale(0.1 -0.1)\">\r\n       <defs>\r\n        <path d=\"M 37.796875 64.3125 \r\nL 12.890625 25.390625 \r\nL 37.796875 25.390625 \r\nz\r\nM 35.203125 72.90625 \r\nL 47.609375 72.90625 \r\nL 47.609375 25.390625 \r\nL 58.015625 25.390625 \r\nL 58.015625 17.1875 \r\nL 47.609375 17.1875 \r\nL 47.609375 0 \r\nL 37.796875 0 \r\nL 37.796875 17.1875 \r\nL 4.890625 17.1875 \r\nL 4.890625 26.703125 \r\nz\r\n\" id=\"DejaVuSans-52\"/>\r\n       </defs>\r\n       <use xlink:href=\"#DejaVuSans-52\"/>\r\n       <use x=\"63.623047\" xlink:href=\"#DejaVuSans-48\"/>\r\n      </g>\r\n     </g>\r\n    </g>\r\n    <g id=\"xtick_4\">\r\n     <g id=\"line2d_4\">\r\n      <g>\r\n       <use style=\"stroke:#000000;stroke-width:0.8;\" x=\"226.605992\" xlink:href=\"#mfbf66a052e\" y=\"224.64\"/>\r\n      </g>\r\n     </g>\r\n     <g id=\"text_4\">\r\n      <!-- 60 -->\r\n      <g transform=\"translate(220.243492 239.238437)scale(0.1 -0.1)\">\r\n       <defs>\r\n        <path d=\"M 33.015625 40.375 \r\nQ 26.375 40.375 22.484375 35.828125 \r\nQ 18.609375 31.296875 18.609375 23.390625 \r\nQ 18.609375 15.53125 22.484375 10.953125 \r\nQ 26.375 6.390625 33.015625 6.390625 \r\nQ 39.65625 6.390625 43.53125 10.953125 \r\nQ 47.40625 15.53125 47.40625 23.390625 \r\nQ 47.40625 31.296875 43.53125 35.828125 \r\nQ 39.65625 40.375 33.015625 40.375 \r\nz\r\nM 52.59375 71.296875 \r\nL 52.59375 62.3125 \r\nQ 48.875 64.0625 45.09375 64.984375 \r\nQ 41.3125 65.921875 37.59375 65.921875 \r\nQ 27.828125 65.921875 22.671875 59.328125 \r\nQ 17.53125 52.734375 16.796875 39.40625 \r\nQ 19.671875 43.65625 24.015625 45.921875 \r\nQ 28.375 48.1875 33.59375 48.1875 \r\nQ 44.578125 48.1875 50.953125 41.515625 \r\nQ 57.328125 34.859375 57.328125 23.390625 \r\nQ 57.328125 12.15625 50.6875 5.359375 \r\nQ 44.046875 -1.421875 33.015625 -1.421875 \r\nQ 20.359375 -1.421875 13.671875 8.265625 \r\nQ 6.984375 17.96875 6.984375 36.375 \r\nQ 6.984375 53.65625 15.1875 63.9375 \r\nQ 23.390625 74.21875 37.203125 74.21875 \r\nQ 40.921875 74.21875 44.703125 73.484375 \r\nQ 48.484375 72.75 52.59375 71.296875 \r\nz\r\n\" id=\"DejaVuSans-54\"/>\r\n       </defs>\r\n       <use xlink:href=\"#DejaVuSans-54\"/>\r\n       <use x=\"63.623047\" xlink:href=\"#DejaVuSans-48\"/>\r\n      </g>\r\n     </g>\r\n    </g>\r\n    <g id=\"xtick_5\">\r\n     <g id=\"line2d_5\">\r\n      <g>\r\n       <use style=\"stroke:#000000;stroke-width:0.8;\" x=\"288.093595\" xlink:href=\"#mfbf66a052e\" y=\"224.64\"/>\r\n      </g>\r\n     </g>\r\n     <g id=\"text_5\">\r\n      <!-- 80 -->\r\n      <g transform=\"translate(281.731095 239.238437)scale(0.1 -0.1)\">\r\n       <defs>\r\n        <path d=\"M 31.78125 34.625 \r\nQ 24.75 34.625 20.71875 30.859375 \r\nQ 16.703125 27.09375 16.703125 20.515625 \r\nQ 16.703125 13.921875 20.71875 10.15625 \r\nQ 24.75 6.390625 31.78125 6.390625 \r\nQ 38.8125 6.390625 42.859375 10.171875 \r\nQ 46.921875 13.96875 46.921875 20.515625 \r\nQ 46.921875 27.09375 42.890625 30.859375 \r\nQ 38.875 34.625 31.78125 34.625 \r\nz\r\nM 21.921875 38.8125 \r\nQ 15.578125 40.375 12.03125 44.71875 \r\nQ 8.5 49.078125 8.5 55.328125 \r\nQ 8.5 64.0625 14.71875 69.140625 \r\nQ 20.953125 74.21875 31.78125 74.21875 \r\nQ 42.671875 74.21875 48.875 69.140625 \r\nQ 55.078125 64.0625 55.078125 55.328125 \r\nQ 55.078125 49.078125 51.53125 44.71875 \r\nQ 48 40.375 41.703125 38.8125 \r\nQ 48.828125 37.15625 52.796875 32.3125 \r\nQ 56.78125 27.484375 56.78125 20.515625 \r\nQ 56.78125 9.90625 50.3125 4.234375 \r\nQ 43.84375 -1.421875 31.78125 -1.421875 \r\nQ 19.734375 -1.421875 13.25 4.234375 \r\nQ 6.78125 9.90625 6.78125 20.515625 \r\nQ 6.78125 27.484375 10.78125 32.3125 \r\nQ 14.796875 37.15625 21.921875 38.8125 \r\nz\r\nM 18.3125 54.390625 \r\nQ 18.3125 48.734375 21.84375 45.5625 \r\nQ 25.390625 42.390625 31.78125 42.390625 \r\nQ 38.140625 42.390625 41.71875 45.5625 \r\nQ 45.3125 48.734375 45.3125 54.390625 \r\nQ 45.3125 60.0625 41.71875 63.234375 \r\nQ 38.140625 66.40625 31.78125 66.40625 \r\nQ 25.390625 66.40625 21.84375 63.234375 \r\nQ 18.3125 60.0625 18.3125 54.390625 \r\nz\r\n\" id=\"DejaVuSans-56\"/>\r\n       </defs>\r\n       <use xlink:href=\"#DejaVuSans-56\"/>\r\n       <use x=\"63.623047\" xlink:href=\"#DejaVuSans-48\"/>\r\n      </g>\r\n     </g>\r\n    </g>\r\n    <g id=\"xtick_6\">\r\n     <g id=\"line2d_6\">\r\n      <g>\r\n       <use style=\"stroke:#000000;stroke-width:0.8;\" x=\"349.581198\" xlink:href=\"#mfbf66a052e\" y=\"224.64\"/>\r\n      </g>\r\n     </g>\r\n     <g id=\"text_6\">\r\n      <!-- 100 -->\r\n      <g transform=\"translate(340.037448 239.238437)scale(0.1 -0.1)\">\r\n       <defs>\r\n        <path d=\"M 12.40625 8.296875 \r\nL 28.515625 8.296875 \r\nL 28.515625 63.921875 \r\nL 10.984375 60.40625 \r\nL 10.984375 69.390625 \r\nL 28.421875 72.90625 \r\nL 38.28125 72.90625 \r\nL 38.28125 8.296875 \r\nL 54.390625 8.296875 \r\nL 54.390625 0 \r\nL 12.40625 0 \r\nz\r\n\" id=\"DejaVuSans-49\"/>\r\n       </defs>\r\n       <use xlink:href=\"#DejaVuSans-49\"/>\r\n       <use x=\"63.623047\" xlink:href=\"#DejaVuSans-48\"/>\r\n       <use x=\"127.246094\" xlink:href=\"#DejaVuSans-48\"/>\r\n      </g>\r\n     </g>\r\n    </g>\r\n   </g>\r\n   <g id=\"matplotlib.axis_2\">\r\n    <g id=\"ytick_1\">\r\n     <g id=\"line2d_7\">\r\n      <defs>\r\n       <path d=\"M 0 0 \r\nL -3.5 0 \r\n\" id=\"m59c8e74029\" style=\"stroke:#000000;stroke-width:0.8;\"/>\r\n      </defs>\r\n      <g>\r\n       <use style=\"stroke:#000000;stroke-width:0.8;\" x=\"26.925\" xlink:href=\"#m59c8e74029\" y=\"221.863006\"/>\r\n      </g>\r\n     </g>\r\n     <g id=\"text_7\">\r\n      <!-- 0 -->\r\n      <g transform=\"translate(13.5625 225.662225)scale(0.1 -0.1)\">\r\n       <use xlink:href=\"#DejaVuSans-48\"/>\r\n      </g>\r\n     </g>\r\n    </g>\r\n    <g id=\"ytick_2\">\r\n     <g id=\"line2d_8\">\r\n      <g>\r\n       <use style=\"stroke:#000000;stroke-width:0.8;\" x=\"26.925\" xlink:href=\"#m59c8e74029\" y=\"197.180139\"/>\r\n      </g>\r\n     </g>\r\n     <g id=\"text_8\">\r\n      <!-- 2 -->\r\n      <g transform=\"translate(13.5625 200.979357)scale(0.1 -0.1)\">\r\n       <use xlink:href=\"#DejaVuSans-50\"/>\r\n      </g>\r\n     </g>\r\n    </g>\r\n    <g id=\"ytick_3\">\r\n     <g id=\"line2d_9\">\r\n      <g>\r\n       <use style=\"stroke:#000000;stroke-width:0.8;\" x=\"26.925\" xlink:href=\"#m59c8e74029\" y=\"172.497271\"/>\r\n      </g>\r\n     </g>\r\n     <g id=\"text_9\">\r\n      <!-- 4 -->\r\n      <g transform=\"translate(13.5625 176.296489)scale(0.1 -0.1)\">\r\n       <use xlink:href=\"#DejaVuSans-52\"/>\r\n      </g>\r\n     </g>\r\n    </g>\r\n    <g id=\"ytick_4\">\r\n     <g id=\"line2d_10\">\r\n      <g>\r\n       <use style=\"stroke:#000000;stroke-width:0.8;\" x=\"26.925\" xlink:href=\"#m59c8e74029\" y=\"147.814403\"/>\r\n      </g>\r\n     </g>\r\n     <g id=\"text_10\">\r\n      <!-- 6 -->\r\n      <g transform=\"translate(13.5625 151.613622)scale(0.1 -0.1)\">\r\n       <use xlink:href=\"#DejaVuSans-54\"/>\r\n      </g>\r\n     </g>\r\n    </g>\r\n    <g id=\"ytick_5\">\r\n     <g id=\"line2d_11\">\r\n      <g>\r\n       <use style=\"stroke:#000000;stroke-width:0.8;\" x=\"26.925\" xlink:href=\"#m59c8e74029\" y=\"123.131535\"/>\r\n      </g>\r\n     </g>\r\n     <g id=\"text_11\">\r\n      <!-- 8 -->\r\n      <g transform=\"translate(13.5625 126.930754)scale(0.1 -0.1)\">\r\n       <use xlink:href=\"#DejaVuSans-56\"/>\r\n      </g>\r\n     </g>\r\n    </g>\r\n    <g id=\"ytick_6\">\r\n     <g id=\"line2d_12\">\r\n      <g>\r\n       <use style=\"stroke:#000000;stroke-width:0.8;\" x=\"26.925\" xlink:href=\"#m59c8e74029\" y=\"98.448667\"/>\r\n      </g>\r\n     </g>\r\n     <g id=\"text_12\">\r\n      <!-- 10 -->\r\n      <g transform=\"translate(7.2 102.247886)scale(0.1 -0.1)\">\r\n       <use xlink:href=\"#DejaVuSans-49\"/>\r\n       <use x=\"63.623047\" xlink:href=\"#DejaVuSans-48\"/>\r\n      </g>\r\n     </g>\r\n    </g>\r\n    <g id=\"ytick_7\">\r\n     <g id=\"line2d_13\">\r\n      <g>\r\n       <use style=\"stroke:#000000;stroke-width:0.8;\" x=\"26.925\" xlink:href=\"#m59c8e74029\" y=\"73.765799\"/>\r\n      </g>\r\n     </g>\r\n     <g id=\"text_13\">\r\n      <!-- 12 -->\r\n      <g transform=\"translate(7.2 77.565018)scale(0.1 -0.1)\">\r\n       <use xlink:href=\"#DejaVuSans-49\"/>\r\n       <use x=\"63.623047\" xlink:href=\"#DejaVuSans-50\"/>\r\n      </g>\r\n     </g>\r\n    </g>\r\n    <g id=\"ytick_8\">\r\n     <g id=\"line2d_14\">\r\n      <g>\r\n       <use style=\"stroke:#000000;stroke-width:0.8;\" x=\"26.925\" xlink:href=\"#m59c8e74029\" y=\"49.082932\"/>\r\n      </g>\r\n     </g>\r\n     <g id=\"text_14\">\r\n      <!-- 14 -->\r\n      <g transform=\"translate(7.2 52.88215)scale(0.1 -0.1)\">\r\n       <use xlink:href=\"#DejaVuSans-49\"/>\r\n       <use x=\"63.623047\" xlink:href=\"#DejaVuSans-52\"/>\r\n      </g>\r\n     </g>\r\n    </g>\r\n    <g id=\"ytick_9\">\r\n     <g id=\"line2d_15\">\r\n      <g>\r\n       <use style=\"stroke:#000000;stroke-width:0.8;\" x=\"26.925\" xlink:href=\"#m59c8e74029\" y=\"24.400064\"/>\r\n      </g>\r\n     </g>\r\n     <g id=\"text_15\">\r\n      <!-- 16 -->\r\n      <g transform=\"translate(7.2 28.199283)scale(0.1 -0.1)\">\r\n       <use xlink:href=\"#DejaVuSans-49\"/>\r\n       <use x=\"63.623047\" xlink:href=\"#DejaVuSans-54\"/>\r\n      </g>\r\n     </g>\r\n    </g>\r\n   </g>\r\n   <g id=\"line2d_16\">\r\n    <path clip-path=\"url(#p8bdfcf8415)\" d=\"M 42.143182 17.083636 \r\nL 45.217562 55.761982 \r\nL 48.291942 84.999574 \r\nL 51.366322 108.626523 \r\nL 54.440702 126.60763 \r\nL 57.515083 140.211819 \r\nL 60.589463 151.647726 \r\nL 63.663843 161.054077 \r\nL 66.738223 169.046898 \r\nL 69.812603 175.473689 \r\nL 72.886983 181.012549 \r\nL 75.961364 185.815108 \r\nL 79.035744 189.856935 \r\nL 82.110124 192.867756 \r\nL 85.184504 195.734471 \r\nL 88.258884 198.355746 \r\nL 91.333264 200.313431 \r\nL 94.407645 202.186946 \r\nL 97.482025 203.933668 \r\nL 100.556405 205.412592 \r\nL 103.630785 206.681217 \r\nL 106.705165 207.757175 \r\nL 109.779545 208.868003 \r\nL 112.853926 209.744984 \r\nL 115.928306 210.54685 \r\nL 119.002686 211.12423 \r\nL 122.077066 211.654748 \r\nL 125.151446 212.080481 \r\nL 128.225826 212.472564 \r\nL 131.300207 212.783669 \r\nL 134.374587 213.026197 \r\nL 137.448967 213.172573 \r\nL 140.523347 213.297813 \r\nL 143.597727 213.390549 \r\nL 146.672107 213.491946 \r\nL 149.746488 213.57098 \r\nL 152.820868 213.648271 \r\nL 155.895248 213.72606 \r\nL 158.969628 213.77193 \r\nL 162.044008 213.826535 \r\nL 165.118388 213.895309 \r\nL 168.192769 213.940131 \r\nL 171.267149 213.972062 \r\nL 174.341529 214.01543 \r\nL 177.415909 214.070664 \r\nL 180.490289 214.15267 \r\nL 183.564669 214.178265 \r\nL 186.63905 214.209688 \r\nL 189.71343 214.223953 \r\nL 192.78781 214.272665 \r\nL 195.86219 214.33263 \r\nL 198.93657 214.365896 \r\nL 202.01095 214.424316 \r\nL 205.085331 214.43412 \r\nL 208.159711 214.449597 \r\nL 211.234091 214.478831 \r\nL 214.308471 214.495968 \r\nL 217.382851 214.509698 \r\nL 220.457231 214.51122 \r\nL 223.531612 214.537042 \r\nL 226.605992 214.533515 \r\nL 229.680372 214.546004 \r\nL 232.754752 214.556605 \r\nL 235.829132 214.563243 \r\nL 238.903512 214.581536 \r\nL 241.977893 214.566884 \r\nL 245.052273 214.602524 \r\nL 248.126653 214.607536 \r\nL 251.201033 214.619105 \r\nL 254.275413 214.609038 \r\nL 257.349793 214.607439 \r\nL 260.424174 214.627219 \r\nL 263.498554 214.63431 \r\nL 266.572934 214.648427 \r\nL 269.647314 214.651449 \r\nL 272.721694 214.654844 \r\nL 275.796074 214.655331 \r\nL 278.870455 214.646131 \r\nL 281.944835 214.673548 \r\nL 285.019215 214.682906 \r\nL 288.093595 214.690536 \r\nL 291.167975 214.672705 \r\nL 294.242355 214.697028 \r\nL 297.316736 214.690774 \r\nL 300.391116 214.709075 \r\nL 303.465496 214.709702 \r\nL 306.539876 214.691482 \r\nL 309.614256 214.726035 \r\nL 312.688636 214.7197 \r\nL 315.763017 214.730757 \r\nL 318.837397 214.723514 \r\nL 321.911777 214.72022 \r\nL 324.986157 214.736498 \r\nL 328.060537 214.748236 \r\nL 331.134917 214.752541 \r\nL 334.209298 214.743301 \r\nL 337.283678 214.756364 \r\nL 340.358058 214.681252 \r\nL 343.432438 214.712688 \r\nL 346.506818 214.720889 \r\n\" style=\"fill:none;stroke:#1f77b4;stroke-linecap:square;stroke-width:1.5;\"/>\r\n   </g>\r\n   <g id=\"patch_3\">\r\n    <path d=\"M 26.925 224.64 \r\nL 26.925 7.2 \r\n\" style=\"fill:none;stroke:#000000;stroke-linecap:square;stroke-linejoin:miter;stroke-width:0.8;\"/>\r\n   </g>\r\n   <g id=\"patch_4\">\r\n    <path d=\"M 361.725 224.64 \r\nL 361.725 7.2 \r\n\" style=\"fill:none;stroke:#000000;stroke-linecap:square;stroke-linejoin:miter;stroke-width:0.8;\"/>\r\n   </g>\r\n   <g id=\"patch_5\">\r\n    <path d=\"M 26.925 224.64 \r\nL 361.725 224.64 \r\n\" style=\"fill:none;stroke:#000000;stroke-linecap:square;stroke-linejoin:miter;stroke-width:0.8;\"/>\r\n   </g>\r\n   <g id=\"patch_6\">\r\n    <path d=\"M 26.925 7.2 \r\nL 361.725 7.2 \r\n\" style=\"fill:none;stroke:#000000;stroke-linecap:square;stroke-linejoin:miter;stroke-width:0.8;\"/>\r\n   </g>\r\n  </g>\r\n </g>\r\n <defs>\r\n  <clipPath id=\"p8bdfcf8415\">\r\n   <rect height=\"217.44\" width=\"334.8\" x=\"26.925\" y=\"7.2\"/>\r\n  </clipPath>\r\n </defs>\r\n</svg>\r\n",
      "image/png": "[encoded data removed]"
     },
     "metadata": {
      "needs_background": "light"
     }
    }
   ],
   "source": [
    "plt.plot(history.epoch, history.history.get('loss'))"
   ]
  },
  {
   "cell_type": "code",
   "execution_count": 15,
   "metadata": {},
   "outputs": [
    {
     "output_type": "execute_result",
     "data": {
      "text/plain": [
       "[<matplotlib.lines.Line2D at 0x1be48405190>]"
      ]
     },
     "metadata": {},
     "execution_count": 15
    },
    {
     "output_type": "display_data",
     "data": {
      "text/plain": "<Figure size 432x288 with 1 Axes>",
      "image/svg+xml": "<?xml version=\"1.0\" encoding=\"utf-8\" standalone=\"no\"?>\r\n<!DOCTYPE svg PUBLIC \"-//W3C//DTD SVG 1.1//EN\"\r\n  \"http://www.w3.org/Graphics/SVG/1.1/DTD/svg11.dtd\">\r\n<!-- Created with matplotlib (https://matplotlib.org/) -->\r\n<svg height=\"248.518125pt\" version=\"1.1\" viewBox=\"0 0 378.465625 248.518125\" width=\"378.465625pt\" xmlns=\"http://www.w3.org/2000/svg\" xmlns:xlink=\"http://www.w3.org/1999/xlink\">\r\n <metadata>\r\n  <rdf:RDF xmlns:cc=\"http://creativecommons.org/ns#\" xmlns:dc=\"http://purl.org/dc/elements/1.1/\" xmlns:rdf=\"http://www.w3.org/1999/02/22-rdf-syntax-ns#\">\r\n   <cc:Work>\r\n    <dc:type rdf:resource=\"http://purl.org/dc/dcmitype/StillImage\"/>\r\n    <dc:date>2021-01-24T20:02:04.055184</dc:date>\r\n    <dc:format>image/svg+xml</dc:format>\r\n    <dc:creator>\r\n     <cc:Agent>\r\n      <dc:title>Matplotlib v3.3.1, https://matplotlib.org/</dc:title>\r\n     </cc:Agent>\r\n    </dc:creator>\r\n   </cc:Work>\r\n  </rdf:RDF>\r\n </metadata>\r\n <defs>\r\n  <style type=\"text/css\">*{stroke-linecap:butt;stroke-linejoin:round;}</style>\r\n </defs>\r\n <g id=\"figure_1\">\r\n  <g id=\"patch_1\">\r\n   <path d=\"M 0 248.518125 \r\nL 378.465625 248.518125 \r\nL 378.465625 0 \r\nL 0 0 \r\nz\r\n\" style=\"fill:none;\"/>\r\n  </g>\r\n  <g id=\"axes_1\">\r\n   <g id=\"patch_2\">\r\n    <path d=\"M 36.465625 224.64 \r\nL 371.265625 224.64 \r\nL 371.265625 7.2 \r\nL 36.465625 7.2 \r\nz\r\n\" style=\"fill:#ffffff;\"/>\r\n   </g>\r\n   <g id=\"matplotlib.axis_1\">\r\n    <g id=\"xtick_1\">\r\n     <g id=\"line2d_1\">\r\n      <defs>\r\n       <path d=\"M 0 0 \r\nL 0 3.5 \r\n\" id=\"m6fbb9a8d1d\" style=\"stroke:#000000;stroke-width:0.8;\"/>\r\n      </defs>\r\n      <g>\r\n       <use style=\"stroke:#000000;stroke-width:0.8;\" x=\"51.683807\" xlink:href=\"#m6fbb9a8d1d\" y=\"224.64\"/>\r\n      </g>\r\n     </g>\r\n     <g id=\"text_1\">\r\n      <!-- 0 -->\r\n      <g transform=\"translate(48.502557 239.238437)scale(0.1 -0.1)\">\r\n       <defs>\r\n        <path d=\"M 31.78125 66.40625 \r\nQ 24.171875 66.40625 20.328125 58.90625 \r\nQ 16.5 51.421875 16.5 36.375 \r\nQ 16.5 21.390625 20.328125 13.890625 \r\nQ 24.171875 6.390625 31.78125 6.390625 \r\nQ 39.453125 6.390625 43.28125 13.890625 \r\nQ 47.125 21.390625 47.125 36.375 \r\nQ 47.125 51.421875 43.28125 58.90625 \r\nQ 39.453125 66.40625 31.78125 66.40625 \r\nz\r\nM 31.78125 74.21875 \r\nQ 44.046875 74.21875 50.515625 64.515625 \r\nQ 56.984375 54.828125 56.984375 36.375 \r\nQ 56.984375 17.96875 50.515625 8.265625 \r\nQ 44.046875 -1.421875 31.78125 -1.421875 \r\nQ 19.53125 -1.421875 13.0625 8.265625 \r\nQ 6.59375 17.96875 6.59375 36.375 \r\nQ 6.59375 54.828125 13.0625 64.515625 \r\nQ 19.53125 74.21875 31.78125 74.21875 \r\nz\r\n\" id=\"DejaVuSans-48\"/>\r\n       </defs>\r\n       <use xlink:href=\"#DejaVuSans-48\"/>\r\n      </g>\r\n     </g>\r\n    </g>\r\n    <g id=\"xtick_2\">\r\n     <g id=\"line2d_2\">\r\n      <g>\r\n       <use style=\"stroke:#000000;stroke-width:0.8;\" x=\"113.17141\" xlink:href=\"#m6fbb9a8d1d\" y=\"224.64\"/>\r\n      </g>\r\n     </g>\r\n     <g id=\"text_2\">\r\n      <!-- 20 -->\r\n      <g transform=\"translate(106.80891 239.238437)scale(0.1 -0.1)\">\r\n       <defs>\r\n        <path d=\"M 19.1875 8.296875 \r\nL 53.609375 8.296875 \r\nL 53.609375 0 \r\nL 7.328125 0 \r\nL 7.328125 8.296875 \r\nQ 12.9375 14.109375 22.625 23.890625 \r\nQ 32.328125 33.6875 34.8125 36.53125 \r\nQ 39.546875 41.84375 41.421875 45.53125 \r\nQ 43.3125 49.21875 43.3125 52.78125 \r\nQ 43.3125 58.59375 39.234375 62.25 \r\nQ 35.15625 65.921875 28.609375 65.921875 \r\nQ 23.96875 65.921875 18.8125 64.3125 \r\nQ 13.671875 62.703125 7.8125 59.421875 \r\nL 7.8125 69.390625 \r\nQ 13.765625 71.78125 18.9375 73 \r\nQ 24.125 74.21875 28.421875 74.21875 \r\nQ 39.75 74.21875 46.484375 68.546875 \r\nQ 53.21875 62.890625 53.21875 53.421875 \r\nQ 53.21875 48.921875 51.53125 44.890625 \r\nQ 49.859375 40.875 45.40625 35.40625 \r\nQ 44.1875 33.984375 37.640625 27.21875 \r\nQ 31.109375 20.453125 19.1875 8.296875 \r\nz\r\n\" id=\"DejaVuSans-50\"/>\r\n       </defs>\r\n       <use xlink:href=\"#DejaVuSans-50\"/>\r\n       <use x=\"63.623047\" xlink:href=\"#DejaVuSans-48\"/>\r\n      </g>\r\n     </g>\r\n    </g>\r\n    <g id=\"xtick_3\">\r\n     <g id=\"line2d_3\">\r\n      <g>\r\n       <use style=\"stroke:#000000;stroke-width:0.8;\" x=\"174.659013\" xlink:href=\"#m6fbb9a8d1d\" y=\"224.64\"/>\r\n      </g>\r\n     </g>\r\n     <g id=\"text_3\">\r\n      <!-- 40 -->\r\n      <g transform=\"translate(168.296513 239.238437)scale(0.1 -0.1)\">\r\n       <defs>\r\n        <path d=\"M 37.796875 64.3125 \r\nL 12.890625 25.390625 \r\nL 37.796875 25.390625 \r\nz\r\nM 35.203125 72.90625 \r\nL 47.609375 72.90625 \r\nL 47.609375 25.390625 \r\nL 58.015625 25.390625 \r\nL 58.015625 17.1875 \r\nL 47.609375 17.1875 \r\nL 47.609375 0 \r\nL 37.796875 0 \r\nL 37.796875 17.1875 \r\nL 4.890625 17.1875 \r\nL 4.890625 26.703125 \r\nz\r\n\" id=\"DejaVuSans-52\"/>\r\n       </defs>\r\n       <use xlink:href=\"#DejaVuSans-52\"/>\r\n       <use x=\"63.623047\" xlink:href=\"#DejaVuSans-48\"/>\r\n      </g>\r\n     </g>\r\n    </g>\r\n    <g id=\"xtick_4\">\r\n     <g id=\"line2d_4\">\r\n      <g>\r\n       <use style=\"stroke:#000000;stroke-width:0.8;\" x=\"236.146617\" xlink:href=\"#m6fbb9a8d1d\" y=\"224.64\"/>\r\n      </g>\r\n     </g>\r\n     <g id=\"text_4\">\r\n      <!-- 60 -->\r\n      <g transform=\"translate(229.784117 239.238437)scale(0.1 -0.1)\">\r\n       <defs>\r\n        <path d=\"M 33.015625 40.375 \r\nQ 26.375 40.375 22.484375 35.828125 \r\nQ 18.609375 31.296875 18.609375 23.390625 \r\nQ 18.609375 15.53125 22.484375 10.953125 \r\nQ 26.375 6.390625 33.015625 6.390625 \r\nQ 39.65625 6.390625 43.53125 10.953125 \r\nQ 47.40625 15.53125 47.40625 23.390625 \r\nQ 47.40625 31.296875 43.53125 35.828125 \r\nQ 39.65625 40.375 33.015625 40.375 \r\nz\r\nM 52.59375 71.296875 \r\nL 52.59375 62.3125 \r\nQ 48.875 64.0625 45.09375 64.984375 \r\nQ 41.3125 65.921875 37.59375 65.921875 \r\nQ 27.828125 65.921875 22.671875 59.328125 \r\nQ 17.53125 52.734375 16.796875 39.40625 \r\nQ 19.671875 43.65625 24.015625 45.921875 \r\nQ 28.375 48.1875 33.59375 48.1875 \r\nQ 44.578125 48.1875 50.953125 41.515625 \r\nQ 57.328125 34.859375 57.328125 23.390625 \r\nQ 57.328125 12.15625 50.6875 5.359375 \r\nQ 44.046875 -1.421875 33.015625 -1.421875 \r\nQ 20.359375 -1.421875 13.671875 8.265625 \r\nQ 6.984375 17.96875 6.984375 36.375 \r\nQ 6.984375 53.65625 15.1875 63.9375 \r\nQ 23.390625 74.21875 37.203125 74.21875 \r\nQ 40.921875 74.21875 44.703125 73.484375 \r\nQ 48.484375 72.75 52.59375 71.296875 \r\nz\r\n\" id=\"DejaVuSans-54\"/>\r\n       </defs>\r\n       <use xlink:href=\"#DejaVuSans-54\"/>\r\n       <use x=\"63.623047\" xlink:href=\"#DejaVuSans-48\"/>\r\n      </g>\r\n     </g>\r\n    </g>\r\n    <g id=\"xtick_5\">\r\n     <g id=\"line2d_5\">\r\n      <g>\r\n       <use style=\"stroke:#000000;stroke-width:0.8;\" x=\"297.63422\" xlink:href=\"#m6fbb9a8d1d\" y=\"224.64\"/>\r\n      </g>\r\n     </g>\r\n     <g id=\"text_5\">\r\n      <!-- 80 -->\r\n      <g transform=\"translate(291.27172 239.238437)scale(0.1 -0.1)\">\r\n       <defs>\r\n        <path d=\"M 31.78125 34.625 \r\nQ 24.75 34.625 20.71875 30.859375 \r\nQ 16.703125 27.09375 16.703125 20.515625 \r\nQ 16.703125 13.921875 20.71875 10.15625 \r\nQ 24.75 6.390625 31.78125 6.390625 \r\nQ 38.8125 6.390625 42.859375 10.171875 \r\nQ 46.921875 13.96875 46.921875 20.515625 \r\nQ 46.921875 27.09375 42.890625 30.859375 \r\nQ 38.875 34.625 31.78125 34.625 \r\nz\r\nM 21.921875 38.8125 \r\nQ 15.578125 40.375 12.03125 44.71875 \r\nQ 8.5 49.078125 8.5 55.328125 \r\nQ 8.5 64.0625 14.71875 69.140625 \r\nQ 20.953125 74.21875 31.78125 74.21875 \r\nQ 42.671875 74.21875 48.875 69.140625 \r\nQ 55.078125 64.0625 55.078125 55.328125 \r\nQ 55.078125 49.078125 51.53125 44.71875 \r\nQ 48 40.375 41.703125 38.8125 \r\nQ 48.828125 37.15625 52.796875 32.3125 \r\nQ 56.78125 27.484375 56.78125 20.515625 \r\nQ 56.78125 9.90625 50.3125 4.234375 \r\nQ 43.84375 -1.421875 31.78125 -1.421875 \r\nQ 19.734375 -1.421875 13.25 4.234375 \r\nQ 6.78125 9.90625 6.78125 20.515625 \r\nQ 6.78125 27.484375 10.78125 32.3125 \r\nQ 14.796875 37.15625 21.921875 38.8125 \r\nz\r\nM 18.3125 54.390625 \r\nQ 18.3125 48.734375 21.84375 45.5625 \r\nQ 25.390625 42.390625 31.78125 42.390625 \r\nQ 38.140625 42.390625 41.71875 45.5625 \r\nQ 45.3125 48.734375 45.3125 54.390625 \r\nQ 45.3125 60.0625 41.71875 63.234375 \r\nQ 38.140625 66.40625 31.78125 66.40625 \r\nQ 25.390625 66.40625 21.84375 63.234375 \r\nQ 18.3125 60.0625 18.3125 54.390625 \r\nz\r\n\" id=\"DejaVuSans-56\"/>\r\n       </defs>\r\n       <use xlink:href=\"#DejaVuSans-56\"/>\r\n       <use x=\"63.623047\" xlink:href=\"#DejaVuSans-48\"/>\r\n      </g>\r\n     </g>\r\n    </g>\r\n    <g id=\"xtick_6\">\r\n     <g id=\"line2d_6\">\r\n      <g>\r\n       <use style=\"stroke:#000000;stroke-width:0.8;\" x=\"359.121823\" xlink:href=\"#m6fbb9a8d1d\" y=\"224.64\"/>\r\n      </g>\r\n     </g>\r\n     <g id=\"text_6\">\r\n      <!-- 100 -->\r\n      <g transform=\"translate(349.578073 239.238437)scale(0.1 -0.1)\">\r\n       <defs>\r\n        <path d=\"M 12.40625 8.296875 \r\nL 28.515625 8.296875 \r\nL 28.515625 63.921875 \r\nL 10.984375 60.40625 \r\nL 10.984375 69.390625 \r\nL 28.421875 72.90625 \r\nL 38.28125 72.90625 \r\nL 38.28125 8.296875 \r\nL 54.390625 8.296875 \r\nL 54.390625 0 \r\nL 12.40625 0 \r\nz\r\n\" id=\"DejaVuSans-49\"/>\r\n       </defs>\r\n       <use xlink:href=\"#DejaVuSans-49\"/>\r\n       <use x=\"63.623047\" xlink:href=\"#DejaVuSans-48\"/>\r\n       <use x=\"127.246094\" xlink:href=\"#DejaVuSans-48\"/>\r\n      </g>\r\n     </g>\r\n    </g>\r\n   </g>\r\n   <g id=\"matplotlib.axis_2\">\r\n    <g id=\"ytick_1\">\r\n     <g id=\"line2d_7\">\r\n      <defs>\r\n       <path d=\"M 0 0 \r\nL -3.5 0 \r\n\" id=\"m142ef7bb44\" style=\"stroke:#000000;stroke-width:0.8;\"/>\r\n      </defs>\r\n      <g>\r\n       <use style=\"stroke:#000000;stroke-width:0.8;\" x=\"36.465625\" xlink:href=\"#m142ef7bb44\" y=\"213.828064\"/>\r\n      </g>\r\n     </g>\r\n     <g id=\"text_7\">\r\n      <!-- 0.45 -->\r\n      <g transform=\"translate(7.2 217.627283)scale(0.1 -0.1)\">\r\n       <defs>\r\n        <path d=\"M 10.6875 12.40625 \r\nL 21 12.40625 \r\nL 21 0 \r\nL 10.6875 0 \r\nz\r\n\" id=\"DejaVuSans-46\"/>\r\n        <path d=\"M 10.796875 72.90625 \r\nL 49.515625 72.90625 \r\nL 49.515625 64.59375 \r\nL 19.828125 64.59375 \r\nL 19.828125 46.734375 \r\nQ 21.96875 47.46875 24.109375 47.828125 \r\nQ 26.265625 48.1875 28.421875 48.1875 \r\nQ 40.625 48.1875 47.75 41.5 \r\nQ 54.890625 34.8125 54.890625 23.390625 \r\nQ 54.890625 11.625 47.5625 5.09375 \r\nQ 40.234375 -1.421875 26.90625 -1.421875 \r\nQ 22.3125 -1.421875 17.546875 -0.640625 \r\nQ 12.796875 0.140625 7.71875 1.703125 \r\nL 7.71875 11.625 \r\nQ 12.109375 9.234375 16.796875 8.0625 \r\nQ 21.484375 6.890625 26.703125 6.890625 \r\nQ 35.15625 6.890625 40.078125 11.328125 \r\nQ 45.015625 15.765625 45.015625 23.390625 \r\nQ 45.015625 31 40.078125 35.4375 \r\nQ 35.15625 39.890625 26.703125 39.890625 \r\nQ 22.75 39.890625 18.8125 39.015625 \r\nQ 14.890625 38.140625 10.796875 36.28125 \r\nz\r\n\" id=\"DejaVuSans-53\"/>\r\n       </defs>\r\n       <use xlink:href=\"#DejaVuSans-48\"/>\r\n       <use x=\"63.623047\" xlink:href=\"#DejaVuSans-46\"/>\r\n       <use x=\"95.410156\" xlink:href=\"#DejaVuSans-52\"/>\r\n       <use x=\"159.033203\" xlink:href=\"#DejaVuSans-53\"/>\r\n      </g>\r\n     </g>\r\n    </g>\r\n    <g id=\"ytick_2\">\r\n     <g id=\"line2d_8\">\r\n      <g>\r\n       <use style=\"stroke:#000000;stroke-width:0.8;\" x=\"36.465625\" xlink:href=\"#m142ef7bb44\" y=\"178.170527\"/>\r\n      </g>\r\n     </g>\r\n     <g id=\"text_8\">\r\n      <!-- 0.50 -->\r\n      <g transform=\"translate(7.2 181.969746)scale(0.1 -0.1)\">\r\n       <use xlink:href=\"#DejaVuSans-48\"/>\r\n       <use x=\"63.623047\" xlink:href=\"#DejaVuSans-46\"/>\r\n       <use x=\"95.410156\" xlink:href=\"#DejaVuSans-53\"/>\r\n       <use x=\"159.033203\" xlink:href=\"#DejaVuSans-48\"/>\r\n      </g>\r\n     </g>\r\n    </g>\r\n    <g id=\"ytick_3\">\r\n     <g id=\"line2d_9\">\r\n      <g>\r\n       <use style=\"stroke:#000000;stroke-width:0.8;\" x=\"36.465625\" xlink:href=\"#m142ef7bb44\" y=\"142.51299\"/>\r\n      </g>\r\n     </g>\r\n     <g id=\"text_9\">\r\n      <!-- 0.55 -->\r\n      <g transform=\"translate(7.2 146.312209)scale(0.1 -0.1)\">\r\n       <use xlink:href=\"#DejaVuSans-48\"/>\r\n       <use x=\"63.623047\" xlink:href=\"#DejaVuSans-46\"/>\r\n       <use x=\"95.410156\" xlink:href=\"#DejaVuSans-53\"/>\r\n       <use x=\"159.033203\" xlink:href=\"#DejaVuSans-53\"/>\r\n      </g>\r\n     </g>\r\n    </g>\r\n    <g id=\"ytick_4\">\r\n     <g id=\"line2d_10\">\r\n      <g>\r\n       <use style=\"stroke:#000000;stroke-width:0.8;\" x=\"36.465625\" xlink:href=\"#m142ef7bb44\" y=\"106.855453\"/>\r\n      </g>\r\n     </g>\r\n     <g id=\"text_10\">\r\n      <!-- 0.60 -->\r\n      <g transform=\"translate(7.2 110.654672)scale(0.1 -0.1)\">\r\n       <use xlink:href=\"#DejaVuSans-48\"/>\r\n       <use x=\"63.623047\" xlink:href=\"#DejaVuSans-46\"/>\r\n       <use x=\"95.410156\" xlink:href=\"#DejaVuSans-54\"/>\r\n       <use x=\"159.033203\" xlink:href=\"#DejaVuSans-48\"/>\r\n      </g>\r\n     </g>\r\n    </g>\r\n    <g id=\"ytick_5\">\r\n     <g id=\"line2d_11\">\r\n      <g>\r\n       <use style=\"stroke:#000000;stroke-width:0.8;\" x=\"36.465625\" xlink:href=\"#m142ef7bb44\" y=\"71.197916\"/>\r\n      </g>\r\n     </g>\r\n     <g id=\"text_11\">\r\n      <!-- 0.65 -->\r\n      <g transform=\"translate(7.2 74.997135)scale(0.1 -0.1)\">\r\n       <use xlink:href=\"#DejaVuSans-48\"/>\r\n       <use x=\"63.623047\" xlink:href=\"#DejaVuSans-46\"/>\r\n       <use x=\"95.410156\" xlink:href=\"#DejaVuSans-54\"/>\r\n       <use x=\"159.033203\" xlink:href=\"#DejaVuSans-53\"/>\r\n      </g>\r\n     </g>\r\n    </g>\r\n    <g id=\"ytick_6\">\r\n     <g id=\"line2d_12\">\r\n      <g>\r\n       <use style=\"stroke:#000000;stroke-width:0.8;\" x=\"36.465625\" xlink:href=\"#m142ef7bb44\" y=\"35.540379\"/>\r\n      </g>\r\n     </g>\r\n     <g id=\"text_12\">\r\n      <!-- 0.70 -->\r\n      <g transform=\"translate(7.2 39.339598)scale(0.1 -0.1)\">\r\n       <defs>\r\n        <path d=\"M 8.203125 72.90625 \r\nL 55.078125 72.90625 \r\nL 55.078125 68.703125 \r\nL 28.609375 0 \r\nL 18.3125 0 \r\nL 43.21875 64.59375 \r\nL 8.203125 64.59375 \r\nz\r\n\" id=\"DejaVuSans-55\"/>\r\n       </defs>\r\n       <use xlink:href=\"#DejaVuSans-48\"/>\r\n       <use x=\"63.623047\" xlink:href=\"#DejaVuSans-46\"/>\r\n       <use x=\"95.410156\" xlink:href=\"#DejaVuSans-55\"/>\r\n       <use x=\"159.033203\" xlink:href=\"#DejaVuSans-48\"/>\r\n      </g>\r\n     </g>\r\n    </g>\r\n   </g>\r\n   <g id=\"line2d_13\">\r\n    <path clip-path=\"url(#p0f102fb949)\" d=\"M 51.683807 211.480023 \r\nL 54.758187 214.756364 \r\nL 57.832567 210.387909 \r\nL 60.906947 203.835207 \r\nL 63.981327 202.743093 \r\nL 67.055708 207.111569 \r\nL 70.130088 212.572136 \r\nL 73.204468 212.572136 \r\nL 76.278848 210.387909 \r\nL 79.353228 207.111569 \r\nL 82.427608 200.558866 \r\nL 85.501989 195.098298 \r\nL 88.576369 198.374639 \r\nL 91.650749 190.729844 \r\nL 94.725129 177.624481 \r\nL 97.799509 159.058529 \r\nL 100.873889 131.755668 \r\nL 103.94827 101.176445 \r\nL 107.02265 85.886855 \r\nL 110.09703 61.860357 \r\nL 113.17141 60.768222 \r\nL 116.24579 53.123406 \r\nL 119.32017 54.21554 \r\nL 122.394551 55.307633 \r\nL 125.468931 56.399768 \r\nL 128.543311 56.399768 \r\nL 131.617691 55.307633 \r\nL 134.692071 54.21554 \r\nL 137.766451 54.21554 \r\nL 140.840832 54.21554 \r\nL 143.915212 55.307633 \r\nL 146.989592 58.583995 \r\nL 150.063972 61.860357 \r\nL 153.138352 56.399768 \r\nL 156.212732 60.768222 \r\nL 159.287113 59.67613 \r\nL 162.361493 59.67613 \r\nL 165.435873 60.768222 \r\nL 168.510253 62.952449 \r\nL 171.584633 61.860357 \r\nL 174.659013 60.768222 \r\nL 177.733394 62.952449 \r\nL 180.807774 65.136676 \r\nL 183.882154 62.952449 \r\nL 186.956534 65.136676 \r\nL 190.030914 67.320903 \r\nL 193.105294 43.294405 \r\nL 196.179675 43.294405 \r\nL 199.254055 46.570724 \r\nL 202.328435 44.386497 \r\nL 205.402815 41.110178 \r\nL 208.477195 43.294405 \r\nL 211.551575 38.92595 \r\nL 214.625956 37.833816 \r\nL 217.700336 35.649588 \r\nL 220.774716 33.465361 \r\nL 223.849096 33.465361 \r\nL 226.923476 34.557496 \r\nL 229.997856 35.649588 \r\nL 233.072237 31.281134 \r\nL 236.146617 31.281134 \r\nL 239.220997 31.281134 \r\nL 242.295377 30.188999 \r\nL 245.369757 29.096907 \r\nL 248.444137 25.820545 \r\nL 251.518518 25.820545 \r\nL 254.592898 25.820545 \r\nL 257.667278 24.728453 \r\nL 260.741658 23.636318 \r\nL 263.816038 25.820545 \r\nL 266.890418 24.728453 \r\nL 269.964799 24.728453 \r\nL 273.039179 24.728453 \r\nL 276.113559 21.452091 \r\nL 279.187939 22.544225 \r\nL 282.262319 22.544225 \r\nL 285.336699 23.636318 \r\nL 288.41108 26.91268 \r\nL 291.48546 22.544225 \r\nL 294.55984 20.359998 \r\nL 297.63422 21.452091 \r\nL 300.7086 22.544225 \r\nL 303.78298 20.359998 \r\nL 306.857361 22.544225 \r\nL 309.931741 20.359998 \r\nL 313.006121 22.544225 \r\nL 316.080501 23.636318 \r\nL 319.154881 18.175771 \r\nL 322.229261 20.359998 \r\nL 325.303642 21.452091 \r\nL 328.378022 21.452091 \r\nL 331.452402 20.359998 \r\nL 334.526782 18.175771 \r\nL 337.601162 18.175771 \r\nL 340.675542 17.083636 \r\nL 343.749923 19.267864 \r\nL 346.824303 18.175771 \r\nL 349.898683 28.004772 \r\nL 352.973063 21.452091 \r\nL 356.047443 21.452091 \r\n\" style=\"fill:none;stroke:#1f77b4;stroke-linecap:square;stroke-width:1.5;\"/>\r\n   </g>\r\n   <g id=\"patch_3\">\r\n    <path d=\"M 36.465625 224.64 \r\nL 36.465625 7.2 \r\n\" style=\"fill:none;stroke:#000000;stroke-linecap:square;stroke-linejoin:miter;stroke-width:0.8;\"/>\r\n   </g>\r\n   <g id=\"patch_4\">\r\n    <path d=\"M 371.265625 224.64 \r\nL 371.265625 7.2 \r\n\" style=\"fill:none;stroke:#000000;stroke-linecap:square;stroke-linejoin:miter;stroke-width:0.8;\"/>\r\n   </g>\r\n   <g id=\"patch_5\">\r\n    <path d=\"M 36.465625 224.64 \r\nL 371.265625 224.64 \r\n\" style=\"fill:none;stroke:#000000;stroke-linecap:square;stroke-linejoin:miter;stroke-width:0.8;\"/>\r\n   </g>\r\n   <g id=\"patch_6\">\r\n    <path d=\"M 36.465625 7.2 \r\nL 371.265625 7.2 \r\n\" style=\"fill:none;stroke:#000000;stroke-linecap:square;stroke-linejoin:miter;stroke-width:0.8;\"/>\r\n   </g>\r\n  </g>\r\n </g>\r\n <defs>\r\n  <clipPath id=\"p0f102fb949\">\r\n   <rect height=\"217.44\" width=\"334.8\" x=\"36.465625\" y=\"7.2\"/>\r\n  </clipPath>\r\n </defs>\r\n</svg>\r\n",
      "image/png": "[encoded data removed]"
     },
     "metadata": {
      "needs_background": "light"
     }
    }
   ],
   "source": [
    "plt.plot(history.epoch, history.history.get('acc'))"
   ]
  },
  {
   "cell_type": "code",
   "execution_count": null,
   "metadata": {},
   "outputs": [],
   "source": []
  }
 ],
 "metadata": {
  "kernelspec": {
   "display_name": "Python 3",
   "language": "python",
   "name": "python3"
  },
  "language_info": {
   "codemirror_mode": {
    "name": "ipython",
    "version": 3
   },
   "file_extension": ".py",
   "mimetype": "text/x-python",
   "name": "python",
   "nbconvert_exporter": "python",
   "pygments_lexer": "ipython3",
   "version": "3.8.5-final"
  }
 },
 "nbformat": 4,
 "nbformat_minor": 2
}
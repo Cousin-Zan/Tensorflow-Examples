{
 "cells": [
  {
   "cell_type": "code",
   "execution_count": 1,
   "metadata": {
    "execution": {
     "iopub.execute_input": "2021-01-29T03:02:29.940961Z",
     "iopub.status.busy": "2021-01-29T03:02:29.940297Z",
     "iopub.status.idle": "2021-01-29T03:02:35.110773Z",
     "shell.execute_reply": "2021-01-29T03:02:35.111834Z"
    },
    "papermill": {
     "duration": 5.195551,
     "end_time": "2021-01-29T03:02:35.112217",
     "exception": false,
     "start_time": "2021-01-29T03:02:29.916666",
     "status": "completed"
    },
    "tags": []
   },
   "outputs": [],
   "source": [
    "import tensorflow as tf\n",
    "from tensorflow import keras\n",
    "import matplotlib.pyplot as plt\n",
    "%matplotlib inline\n",
    "import numpy as np\n",
    "import glob"
   ]
  },
  {
   "cell_type": "code",
   "execution_count": 2,
   "metadata": {
    "execution": {
     "iopub.execute_input": "2021-01-29T03:02:35.235908Z",
     "iopub.status.busy": "2021-01-29T03:02:35.235185Z",
     "iopub.status.idle": "2021-01-29T03:02:38.323678Z",
     "shell.execute_reply": "2021-01-29T03:02:38.322547Z"
    },
    "papermill": {
     "duration": 3.152309,
     "end_time": "2021-01-29T03:02:38.323819",
     "exception": false,
     "start_time": "2021-01-29T03:02:35.171510",
     "status": "completed"
    },
    "tags": []
   },
   "outputs": [],
   "source": [
    "imgs_path = glob.glob(\"../input/birds-200/birds_train/*/*.jpg\")"
   ]
  },
  {
   "cell_type": "code",
   "execution_count": 3,
   "metadata": {
    "execution": {
     "iopub.execute_input": "2021-01-29T03:02:38.368412Z",
     "iopub.status.busy": "2021-01-29T03:02:38.367682Z",
     "iopub.status.idle": "2021-01-29T03:02:38.371603Z",
     "shell.execute_reply": "2021-01-29T03:02:38.372023Z"
    },
    "papermill": {
     "duration": 0.029637,
     "end_time": "2021-01-29T03:02:38.372155",
     "exception": false,
     "start_time": "2021-01-29T03:02:38.342518",
     "status": "completed"
    },
    "tags": []
   },
   "outputs": [
    {
     "data": {
      "text/plain": [
       "['../input/birds-200/birds_train/037.Acadian_Flycatcher/20.jpg',\n",
       " '../input/birds-200/birds_train/037.Acadian_Flycatcher/6.jpg',\n",
       " '../input/birds-200/birds_train/037.Acadian_Flycatcher/5.jpg']"
      ]
     },
     "execution_count": 3,
     "metadata": {},
     "output_type": "execute_result"
    }
   ],
   "source": [
    "imgs_path[:3]"
   ]
  },
  {
   "cell_type": "code",
   "execution_count": 4,
   "metadata": {
    "execution": {
     "iopub.execute_input": "2021-01-29T03:02:38.415216Z",
     "iopub.status.busy": "2021-01-29T03:02:38.414340Z",
     "iopub.status.idle": "2021-01-29T03:02:38.418765Z",
     "shell.execute_reply": "2021-01-29T03:02:38.418335Z"
    },
    "papermill": {
     "duration": 0.027331,
     "end_time": "2021-01-29T03:02:38.418868",
     "exception": false,
     "start_time": "2021-01-29T03:02:38.391537",
     "status": "completed"
    },
    "tags": []
   },
   "outputs": [
    {
     "data": {
      "text/plain": [
       "'../input/birds-200/birds_train/128.Seaside_Sparrow/20.jpg'"
      ]
     },
     "execution_count": 4,
     "metadata": {},
     "output_type": "execute_result"
    }
   ],
   "source": [
    "img_p = imgs_path[1000]\n",
    "img_p"
   ]
  },
  {
   "cell_type": "code",
   "execution_count": 5,
   "metadata": {
    "execution": {
     "iopub.execute_input": "2021-01-29T03:02:38.462493Z",
     "iopub.status.busy": "2021-01-29T03:02:38.461638Z",
     "iopub.status.idle": "2021-01-29T03:02:38.465693Z",
     "shell.execute_reply": "2021-01-29T03:02:38.465283Z"
    },
    "papermill": {
     "duration": 0.027975,
     "end_time": "2021-01-29T03:02:38.465800",
     "exception": false,
     "start_time": "2021-01-29T03:02:38.437825",
     "status": "completed"
    },
    "tags": []
   },
   "outputs": [
    {
     "data": {
      "text/plain": [
       "'Seaside_Sparrow'"
      ]
     },
     "execution_count": 5,
     "metadata": {},
     "output_type": "execute_result"
    }
   ],
   "source": [
    "img_p.split(\"/\")[4].split('.')[1]"
   ]
  },
  {
   "cell_type": "code",
   "execution_count": 6,
   "metadata": {
    "execution": {
     "iopub.execute_input": "2021-01-29T03:02:38.513468Z",
     "iopub.status.busy": "2021-01-29T03:02:38.512747Z",
     "iopub.status.idle": "2021-01-29T03:02:38.515526Z",
     "shell.execute_reply": "2021-01-29T03:02:38.515082Z"
    },
    "papermill": {
     "duration": 0.030645,
     "end_time": "2021-01-29T03:02:38.515631",
     "exception": false,
     "start_time": "2021-01-29T03:02:38.484986",
     "status": "completed"
    },
    "tags": []
   },
   "outputs": [],
   "source": [
    "all_label_name = [img_p.split(\"/\")[4].split('.')[1] for img_p in imgs_path]"
   ]
  },
  {
   "cell_type": "code",
   "execution_count": 7,
   "metadata": {
    "execution": {
     "iopub.execute_input": "2021-01-29T03:02:38.558842Z",
     "iopub.status.busy": "2021-01-29T03:02:38.558002Z",
     "iopub.status.idle": "2021-01-29T03:02:38.561509Z",
     "shell.execute_reply": "2021-01-29T03:02:38.562000Z"
    },
    "papermill": {
     "duration": 0.026995,
     "end_time": "2021-01-29T03:02:38.562114",
     "exception": false,
     "start_time": "2021-01-29T03:02:38.535119",
     "status": "completed"
    },
    "tags": []
   },
   "outputs": [
    {
     "data": {
      "text/plain": [
       "['Acadian_Flycatcher', 'Acadian_Flycatcher', 'Acadian_Flycatcher']"
      ]
     },
     "execution_count": 7,
     "metadata": {},
     "output_type": "execute_result"
    }
   ],
   "source": [
    "all_label_name[:3]"
   ]
  },
  {
   "cell_type": "code",
   "execution_count": 8,
   "metadata": {
    "execution": {
     "iopub.execute_input": "2021-01-29T03:02:38.605925Z",
     "iopub.status.busy": "2021-01-29T03:02:38.605222Z",
     "iopub.status.idle": "2021-01-29T03:02:38.608860Z",
     "shell.execute_reply": "2021-01-29T03:02:38.608467Z"
    },
    "papermill": {
     "duration": 0.026807,
     "end_time": "2021-01-29T03:02:38.608960",
     "exception": false,
     "start_time": "2021-01-29T03:02:38.582153",
     "status": "completed"
    },
    "tags": []
   },
   "outputs": [
    {
     "data": {
      "text/plain": [
       "['Pileated_Woodpecker', 'Pileated_Woodpecker', 'Pileated_Woodpecker']"
      ]
     },
     "execution_count": 8,
     "metadata": {},
     "output_type": "execute_result"
    }
   ],
   "source": [
    "all_label_name[-3:]"
   ]
  },
  {
   "cell_type": "code",
   "execution_count": 9,
   "metadata": {
    "execution": {
     "iopub.execute_input": "2021-01-29T03:02:38.655893Z",
     "iopub.status.busy": "2021-01-29T03:02:38.655113Z",
     "iopub.status.idle": "2021-01-29T03:02:38.660370Z",
     "shell.execute_reply": "2021-01-29T03:02:38.659948Z"
    },
    "papermill": {
     "duration": 0.031434,
     "end_time": "2021-01-29T03:02:38.660487",
     "exception": false,
     "start_time": "2021-01-29T03:02:38.629053",
     "status": "completed"
    },
    "tags": []
   },
   "outputs": [],
   "source": [
    "label_names = np.unique(all_label_name)"
   ]
  },
  {
   "cell_type": "code",
   "execution_count": 10,
   "metadata": {
    "execution": {
     "iopub.execute_input": "2021-01-29T03:02:38.705434Z",
     "iopub.status.busy": "2021-01-29T03:02:38.704544Z",
     "iopub.status.idle": "2021-01-29T03:02:38.708031Z",
     "shell.execute_reply": "2021-01-29T03:02:38.708430Z"
    },
    "papermill": {
     "duration": 0.02783,
     "end_time": "2021-01-29T03:02:38.708553",
     "exception": false,
     "start_time": "2021-01-29T03:02:38.680723",
     "status": "completed"
    },
    "tags": []
   },
   "outputs": [
    {
     "data": {
      "text/plain": [
       "200"
      ]
     },
     "execution_count": 10,
     "metadata": {},
     "output_type": "execute_result"
    }
   ],
   "source": [
    "len(label_names)"
   ]
  },
  {
   "cell_type": "code",
   "execution_count": 11,
   "metadata": {
    "execution": {
     "iopub.execute_input": "2021-01-29T03:02:38.754768Z",
     "iopub.status.busy": "2021-01-29T03:02:38.754105Z",
     "iopub.status.idle": "2021-01-29T03:02:38.756891Z",
     "shell.execute_reply": "2021-01-29T03:02:38.756504Z"
    },
    "papermill": {
     "duration": 0.0275,
     "end_time": "2021-01-29T03:02:38.757003",
     "exception": false,
     "start_time": "2021-01-29T03:02:38.729503",
     "status": "completed"
    },
    "tags": []
   },
   "outputs": [],
   "source": [
    "label_to_index = dict((name,i) for i,name in enumerate(label_names))"
   ]
  },
  {
   "cell_type": "code",
   "execution_count": 12,
   "metadata": {
    "execution": {
     "iopub.execute_input": "2021-01-29T03:02:38.801765Z",
     "iopub.status.busy": "2021-01-29T03:02:38.801111Z",
     "iopub.status.idle": "2021-01-29T03:02:38.803542Z",
     "shell.execute_reply": "2021-01-29T03:02:38.803963Z"
    },
    "papermill": {
     "duration": 0.026444,
     "end_time": "2021-01-29T03:02:38.804073",
     "exception": false,
     "start_time": "2021-01-29T03:02:38.777629",
     "status": "completed"
    },
    "tags": []
   },
   "outputs": [],
   "source": [
    "index_to_label = dict((v,k) for k,v in label_to_index.items())"
   ]
  },
  {
   "cell_type": "code",
   "execution_count": 13,
   "metadata": {
    "execution": {
     "iopub.execute_input": "2021-01-29T03:02:38.851127Z",
     "iopub.status.busy": "2021-01-29T03:02:38.850401Z",
     "iopub.status.idle": "2021-01-29T03:02:38.852658Z",
     "shell.execute_reply": "2021-01-29T03:02:38.853163Z"
    },
    "papermill": {
     "duration": 0.028198,
     "end_time": "2021-01-29T03:02:38.853300",
     "exception": false,
     "start_time": "2021-01-29T03:02:38.825102",
     "status": "completed"
    },
    "tags": []
   },
   "outputs": [],
   "source": [
    "all_labels =[label_to_index.get(name) for name in all_label_name]"
   ]
  },
  {
   "cell_type": "code",
   "execution_count": 14,
   "metadata": {
    "execution": {
     "iopub.execute_input": "2021-01-29T03:02:38.899627Z",
     "iopub.status.busy": "2021-01-29T03:02:38.898755Z",
     "iopub.status.idle": "2021-01-29T03:02:38.902343Z",
     "shell.execute_reply": "2021-01-29T03:02:38.902780Z"
    },
    "papermill": {
     "duration": 0.028426,
     "end_time": "2021-01-29T03:02:38.902895",
     "exception": false,
     "start_time": "2021-01-29T03:02:38.874469",
     "status": "completed"
    },
    "tags": []
   },
   "outputs": [
    {
     "data": {
      "text/plain": [
       "[0, 0, 0]"
      ]
     },
     "execution_count": 14,
     "metadata": {},
     "output_type": "execute_result"
    }
   ],
   "source": [
    "all_labels[:3]"
   ]
  },
  {
   "cell_type": "code",
   "execution_count": 15,
   "metadata": {
    "execution": {
     "iopub.execute_input": "2021-01-29T03:02:38.950075Z",
     "iopub.status.busy": "2021-01-29T03:02:38.949486Z",
     "iopub.status.idle": "2021-01-29T03:02:38.952055Z",
     "shell.execute_reply": "2021-01-29T03:02:38.952454Z"
    },
    "papermill": {
     "duration": 0.028447,
     "end_time": "2021-01-29T03:02:38.952574",
     "exception": false,
     "start_time": "2021-01-29T03:02:38.924127",
     "status": "completed"
    },
    "tags": []
   },
   "outputs": [],
   "source": [
    "np.random.seed(2021)\n",
    "random_index = np.random.permutation(len(imgs_path))"
   ]
  },
  {
   "cell_type": "code",
   "execution_count": 16,
   "metadata": {
    "execution": {
     "iopub.execute_input": "2021-01-29T03:02:39.002802Z",
     "iopub.status.busy": "2021-01-29T03:02:39.001959Z",
     "iopub.status.idle": "2021-01-29T03:02:39.008278Z",
     "shell.execute_reply": "2021-01-29T03:02:39.007752Z"
    },
    "papermill": {
     "duration": 0.033909,
     "end_time": "2021-01-29T03:02:39.008391",
     "exception": false,
     "start_time": "2021-01-29T03:02:38.974482",
     "status": "completed"
    },
    "tags": []
   },
   "outputs": [],
   "source": [
    "imgs_path = np.array(imgs_path)[random_index]\n",
    "all_labels = np.array(all_labels)[random_index]"
   ]
  },
  {
   "cell_type": "code",
   "execution_count": 17,
   "metadata": {
    "execution": {
     "iopub.execute_input": "2021-01-29T03:02:39.057479Z",
     "iopub.status.busy": "2021-01-29T03:02:39.056822Z",
     "iopub.status.idle": "2021-01-29T03:02:39.059643Z",
     "shell.execute_reply": "2021-01-29T03:02:39.060139Z"
    },
    "papermill": {
     "duration": 0.030032,
     "end_time": "2021-01-29T03:02:39.060271",
     "exception": false,
     "start_time": "2021-01-29T03:02:39.030239",
     "status": "completed"
    },
    "tags": []
   },
   "outputs": [],
   "source": [
    "i = int(len(imgs_path)*0.8)"
   ]
  },
  {
   "cell_type": "code",
   "execution_count": 18,
   "metadata": {
    "execution": {
     "iopub.execute_input": "2021-01-29T03:02:39.108053Z",
     "iopub.status.busy": "2021-01-29T03:02:39.107445Z",
     "iopub.status.idle": "2021-01-29T03:02:39.110512Z",
     "shell.execute_reply": "2021-01-29T03:02:39.110022Z"
    },
    "papermill": {
     "duration": 0.028496,
     "end_time": "2021-01-29T03:02:39.110615",
     "exception": false,
     "start_time": "2021-01-29T03:02:39.082119",
     "status": "completed"
    },
    "tags": []
   },
   "outputs": [],
   "source": [
    "train_path = imgs_path[:i]\n",
    "train_label = all_labels[:i]\n",
    "test_path = imgs_path[i:]\n",
    "test_label = all_labels[i:]"
   ]
  },
  {
   "cell_type": "code",
   "execution_count": 19,
   "metadata": {
    "execution": {
     "iopub.execute_input": "2021-01-29T03:02:39.941316Z",
     "iopub.status.busy": "2021-01-29T03:02:39.940682Z",
     "iopub.status.idle": "2021-01-29T03:02:41.711929Z",
     "shell.execute_reply": "2021-01-29T03:02:41.711487Z"
    },
    "papermill": {
     "duration": 2.579265,
     "end_time": "2021-01-29T03:02:41.712065",
     "exception": false,
     "start_time": "2021-01-29T03:02:39.132800",
     "status": "completed"
    },
    "tags": []
   },
   "outputs": [],
   "source": [
    "train_ds = tf.data.Dataset.from_tensor_slices((train_path,train_label))\n",
    "test_ds = tf.data.Dataset.from_tensor_slices((test_path,test_label))"
   ]
  },
  {
   "cell_type": "code",
   "execution_count": 20,
   "metadata": {
    "execution": {
     "iopub.execute_input": "2021-01-29T03:02:41.761991Z",
     "iopub.status.busy": "2021-01-29T03:02:41.761491Z",
     "iopub.status.idle": "2021-01-29T03:02:41.764902Z",
     "shell.execute_reply": "2021-01-29T03:02:41.765304Z"
    },
    "papermill": {
     "duration": 0.031107,
     "end_time": "2021-01-29T03:02:41.765432",
     "exception": false,
     "start_time": "2021-01-29T03:02:41.734325",
     "status": "completed"
    },
    "tags": []
   },
   "outputs": [],
   "source": [
    "def load_img(path,label):\n",
    "    image = tf.io.read_file(path)\n",
    "    image = tf.image.decode_jpeg(image,channels=3)\n",
    "    image = tf.image.resize(image,[256,256])\n",
    "    image = tf.cast(image,tf.float32)\n",
    "    image = image/255\n",
    "    return image,label"
   ]
  },
  {
   "cell_type": "code",
   "execution_count": 21,
   "metadata": {
    "execution": {
     "iopub.execute_input": "2021-01-29T03:02:41.815395Z",
     "iopub.status.busy": "2021-01-29T03:02:41.814751Z",
     "iopub.status.idle": "2021-01-29T03:02:41.918421Z",
     "shell.execute_reply": "2021-01-29T03:02:41.917968Z"
    },
    "papermill": {
     "duration": 0.13078,
     "end_time": "2021-01-29T03:02:41.918535",
     "exception": false,
     "start_time": "2021-01-29T03:02:41.787755",
     "status": "completed"
    },
    "tags": []
   },
   "outputs": [],
   "source": [
    "AUTOTUNE = tf.data.experimental.AUTOTUNE\n",
    "train_ds = train_ds.map(load_img,num_parallel_calls=AUTOTUNE)\n",
    "test_ds = test_ds.map(load_img,num_parallel_calls=AUTOTUNE)"
   ]
  },
  {
   "cell_type": "code",
   "execution_count": 22,
   "metadata": {
    "execution": {
     "iopub.execute_input": "2021-01-29T03:02:41.967666Z",
     "iopub.status.busy": "2021-01-29T03:02:41.966910Z",
     "iopub.status.idle": "2021-01-29T03:02:41.970120Z",
     "shell.execute_reply": "2021-01-29T03:02:41.970502Z"
    },
    "papermill": {
     "duration": 0.029953,
     "end_time": "2021-01-29T03:02:41.970623",
     "exception": false,
     "start_time": "2021-01-29T03:02:41.940670",
     "status": "completed"
    },
    "tags": []
   },
   "outputs": [
    {
     "data": {
      "text/plain": [
       "<ParallelMapDataset shapes: ((256, 256, 3), ()), types: (tf.float32, tf.int64)>"
      ]
     },
     "execution_count": 22,
     "metadata": {},
     "output_type": "execute_result"
    }
   ],
   "source": [
    "train_ds"
   ]
  },
  {
   "cell_type": "code",
   "execution_count": 23,
   "metadata": {
    "execution": {
     "iopub.execute_input": "2021-01-29T03:02:42.018659Z",
     "iopub.status.busy": "2021-01-29T03:02:42.017991Z",
     "iopub.status.idle": "2021-01-29T03:02:42.020892Z",
     "shell.execute_reply": "2021-01-29T03:02:42.020479Z"
    },
    "papermill": {
     "duration": 0.028033,
     "end_time": "2021-01-29T03:02:42.020990",
     "exception": false,
     "start_time": "2021-01-29T03:02:41.992957",
     "status": "completed"
    },
    "tags": []
   },
   "outputs": [],
   "source": [
    "BATCH_SIZE = 32"
   ]
  },
  {
   "cell_type": "code",
   "execution_count": 24,
   "metadata": {
    "execution": {
     "iopub.execute_input": "2021-01-29T03:02:42.076284Z",
     "iopub.status.busy": "2021-01-29T03:02:42.075470Z",
     "iopub.status.idle": "2021-01-29T03:02:42.086138Z",
     "shell.execute_reply": "2021-01-29T03:02:42.086780Z"
    },
    "papermill": {
     "duration": 0.043145,
     "end_time": "2021-01-29T03:02:42.086911",
     "exception": false,
     "start_time": "2021-01-29T03:02:42.043766",
     "status": "completed"
    },
    "tags": []
   },
   "outputs": [],
   "source": [
    "train_ds = train_ds.repeat().shuffle(300).batch(BATCH_SIZE)"
   ]
  },
  {
   "cell_type": "code",
   "execution_count": 25,
   "metadata": {
    "execution": {
     "iopub.execute_input": "2021-01-29T03:02:42.136623Z",
     "iopub.status.busy": "2021-01-29T03:02:42.135829Z",
     "iopub.status.idle": "2021-01-29T03:02:42.139600Z",
     "shell.execute_reply": "2021-01-29T03:02:42.139209Z"
    },
    "papermill": {
     "duration": 0.029928,
     "end_time": "2021-01-29T03:02:42.139702",
     "exception": false,
     "start_time": "2021-01-29T03:02:42.109774",
     "status": "completed"
    },
    "tags": []
   },
   "outputs": [
    {
     "data": {
      "text/plain": [
       "<BatchDataset shapes: ((None, 256, 256, 3), (None,)), types: (tf.float32, tf.int64)>"
      ]
     },
     "execution_count": 25,
     "metadata": {},
     "output_type": "execute_result"
    }
   ],
   "source": [
    "train_ds"
   ]
  },
  {
   "cell_type": "code",
   "execution_count": 26,
   "metadata": {
    "execution": {
     "iopub.execute_input": "2021-01-29T03:02:42.190499Z",
     "iopub.status.busy": "2021-01-29T03:02:42.189858Z",
     "iopub.status.idle": "2021-01-29T03:02:42.192674Z",
     "shell.execute_reply": "2021-01-29T03:02:42.192271Z"
    },
    "papermill": {
     "duration": 0.030116,
     "end_time": "2021-01-29T03:02:42.192778",
     "exception": false,
     "start_time": "2021-01-29T03:02:42.162662",
     "status": "completed"
    },
    "tags": []
   },
   "outputs": [],
   "source": [
    "test_ds = test_ds.batch(BATCH_SIZE)"
   ]
  },
  {
   "cell_type": "code",
   "execution_count": 27,
   "metadata": {
    "execution": {
     "iopub.execute_input": "2021-01-29T03:02:42.251219Z",
     "iopub.status.busy": "2021-01-29T03:02:42.250704Z",
     "iopub.status.idle": "2021-01-29T03:02:42.747091Z",
     "shell.execute_reply": "2021-01-29T03:02:42.746141Z"
    },
    "papermill": {
     "duration": 0.531432,
     "end_time": "2021-01-29T03:02:42.747253",
     "exception": false,
     "start_time": "2021-01-29T03:02:42.215821",
     "status": "completed"
    },
    "tags": []
   },
   "outputs": [],
   "source": [
    "model = tf.keras.Sequential()\n",
    "\n",
    "model.add(tf.keras.layers.Conv2D(64,(3,3),input_shape=(256,256,3),                                                         activation='relu'))\n",
    "#64卷积核，3*3大小\n",
    "model.add(tf.keras.layers.BatchNormalization())\n",
    "\n",
    "model.add(tf.keras.layers.Conv2D(64,(3,3),activation='relu'))\n",
    "model.add(tf.keras.layers.BatchNormalization())\n",
    "model.add(tf.keras.layers.MaxPool2D())\n",
    "\n",
    "model.add(tf.keras.layers.Conv2D(128,(3,3),activation='relu'))\n",
    "model.add(tf.keras.layers.BatchNormalization())\n",
    "model.add(tf.keras.layers.Conv2D(128,(3,3),activation='relu'))\n",
    "model.add(tf.keras.layers.BatchNormalization())\n",
    "model.add(tf.keras.layers.MaxPool2D())\n",
    "\n",
    "model.add(tf.keras.layers.Conv2D(256,(3,3),activation='relu'))\n",
    "model.add(tf.keras.layers.BatchNormalization())\n",
    "model.add(tf.keras.layers.Conv2D(256,(3,3),activation='relu'))\n",
    "model.add(tf.keras.layers.BatchNormalization())\n",
    "model.add(tf.keras.layers.MaxPool2D())\n",
    "\n",
    "model.add(tf.keras.layers.Conv2D(512,(3,3),activation='relu'))\n",
    "model.add(tf.keras.layers.BatchNormalization())\n",
    "model.add(tf.keras.layers.Conv2D(512,(3,3),activation='relu'))\n",
    "model.add(tf.keras.layers.BatchNormalization())\n",
    "model.add(tf.keras.layers.Conv2D(512,(3,3),activation='relu'))\n",
    "model.add(tf.keras.layers.BatchNormalization())\n",
    "model.add(tf.keras.layers.GlobalAveragePooling2D())\n",
    "\n",
    "model.add(tf.keras.layers.Dense(1024,activation='relu'))\n",
    "model.add(tf.keras.layers.BatchNormalization())\n",
    "model.add(tf.keras.layers.Dense(200))"
   ]
  },
  {
   "cell_type": "code",
   "execution_count": 28,
   "metadata": {
    "execution": {
     "iopub.execute_input": "2021-01-29T03:02:42.799105Z",
     "iopub.status.busy": "2021-01-29T03:02:42.798293Z",
     "iopub.status.idle": "2021-01-29T03:02:42.816068Z",
     "shell.execute_reply": "2021-01-29T03:02:42.815580Z"
    },
    "papermill": {
     "duration": 0.044355,
     "end_time": "2021-01-29T03:02:42.816169",
     "exception": false,
     "start_time": "2021-01-29T03:02:42.771814",
     "status": "completed"
    },
    "tags": []
   },
   "outputs": [
    {
     "name": "stdout",
     "output_type": "stream",
     "text": [
      "Model: \"sequential\"\n",
      "_________________________________________________________________\n",
      "Layer (type)                 Output Shape              Param #   \n",
      "=================================================================\n",
      "conv2d (Conv2D)              (None, 254, 254, 64)      1792      \n",
      "_________________________________________________________________\n",
      "batch_normalization (BatchNo (None, 254, 254, 64)      256       \n",
      "_________________________________________________________________\n",
      "conv2d_1 (Conv2D)            (None, 252, 252, 64)      36928     \n",
      "_________________________________________________________________\n",
      "batch_normalization_1 (Batch (None, 252, 252, 64)      256       \n",
      "_________________________________________________________________\n",
      "max_pooling2d (MaxPooling2D) (None, 126, 126, 64)      0         \n",
      "_________________________________________________________________\n",
      "conv2d_2 (Conv2D)            (None, 124, 124, 128)     73856     \n",
      "_________________________________________________________________\n",
      "batch_normalization_2 (Batch (None, 124, 124, 128)     512       \n",
      "_________________________________________________________________\n",
      "conv2d_3 (Conv2D)            (None, 122, 122, 128)     147584    \n",
      "_________________________________________________________________\n",
      "batch_normalization_3 (Batch (None, 122, 122, 128)     512       \n",
      "_________________________________________________________________\n",
      "max_pooling2d_1 (MaxPooling2 (None, 61, 61, 128)       0         \n",
      "_________________________________________________________________\n",
      "conv2d_4 (Conv2D)            (None, 59, 59, 256)       295168    \n",
      "_________________________________________________________________\n",
      "batch_normalization_4 (Batch (None, 59, 59, 256)       1024      \n",
      "_________________________________________________________________\n",
      "conv2d_5 (Conv2D)            (None, 57, 57, 256)       590080    \n",
      "_________________________________________________________________\n",
      "batch_normalization_5 (Batch (None, 57, 57, 256)       1024      \n",
      "_________________________________________________________________\n",
      "max_pooling2d_2 (MaxPooling2 (None, 28, 28, 256)       0         \n",
      "_________________________________________________________________\n",
      "conv2d_6 (Conv2D)            (None, 26, 26, 512)       1180160   \n",
      "_________________________________________________________________\n",
      "batch_normalization_6 (Batch (None, 26, 26, 512)       2048      \n",
      "_________________________________________________________________\n",
      "conv2d_7 (Conv2D)            (None, 24, 24, 512)       2359808   \n",
      "_________________________________________________________________\n",
      "batch_normalization_7 (Batch (None, 24, 24, 512)       2048      \n",
      "_________________________________________________________________\n",
      "conv2d_8 (Conv2D)            (None, 22, 22, 512)       2359808   \n",
      "_________________________________________________________________\n",
      "batch_normalization_8 (Batch (None, 22, 22, 512)       2048      \n",
      "_________________________________________________________________\n",
      "global_average_pooling2d (Gl (None, 512)               0         \n",
      "_________________________________________________________________\n",
      "dense (Dense)                (None, 1024)              525312    \n",
      "_________________________________________________________________\n",
      "batch_normalization_9 (Batch (None, 1024)              4096      \n",
      "_________________________________________________________________\n",
      "dense_1 (Dense)              (None, 200)               205000    \n",
      "=================================================================\n",
      "Total params: 7,789,320\n",
      "Trainable params: 7,782,408\n",
      "Non-trainable params: 6,912\n",
      "_________________________________________________________________\n"
     ]
    }
   ],
   "source": [
    "model.summary()"
   ]
  },
  {
   "cell_type": "code",
   "execution_count": 29,
   "metadata": {
    "execution": {
     "iopub.execute_input": "2021-01-29T03:02:42.874284Z",
     "iopub.status.busy": "2021-01-29T03:02:42.873489Z",
     "iopub.status.idle": "2021-01-29T03:02:42.880944Z",
     "shell.execute_reply": "2021-01-29T03:02:42.880507Z"
    },
    "papermill": {
     "duration": 0.040875,
     "end_time": "2021-01-29T03:02:42.881048",
     "exception": false,
     "start_time": "2021-01-29T03:02:42.840173",
     "status": "completed"
    },
    "tags": []
   },
   "outputs": [],
   "source": [
    "model.compile(\n",
    "    optimizer=tf.keras.optimizers.Adam(0.0001),\n",
    "    loss=tf.keras.losses.SparseCategoricalCrossentropy(from_logits=True),\n",
    "    metrics=['acc']\n",
    ")"
   ]
  },
  {
   "cell_type": "code",
   "execution_count": 30,
   "metadata": {
    "execution": {
     "iopub.execute_input": "2021-01-29T03:02:42.932831Z",
     "iopub.status.busy": "2021-01-29T03:02:42.932149Z",
     "iopub.status.idle": "2021-01-29T03:02:42.934764Z",
     "shell.execute_reply": "2021-01-29T03:02:42.935148Z"
    },
    "papermill": {
     "duration": 0.030498,
     "end_time": "2021-01-29T03:02:42.935306",
     "exception": false,
     "start_time": "2021-01-29T03:02:42.904808",
     "status": "completed"
    },
    "tags": []
   },
   "outputs": [],
   "source": [
    "train_count = len(train_path)\n",
    "test_count = len(test_path)"
   ]
  },
  {
   "cell_type": "code",
   "execution_count": 31,
   "metadata": {
    "execution": {
     "iopub.execute_input": "2021-01-29T03:02:42.987239Z",
     "iopub.status.busy": "2021-01-29T03:02:42.986600Z",
     "iopub.status.idle": "2021-01-29T03:02:42.989758Z",
     "shell.execute_reply": "2021-01-29T03:02:42.989213Z"
    },
    "papermill": {
     "duration": 0.030339,
     "end_time": "2021-01-29T03:02:42.989861",
     "exception": false,
     "start_time": "2021-01-29T03:02:42.959522",
     "status": "completed"
    },
    "tags": []
   },
   "outputs": [],
   "source": [
    "steps_per_epoch = train_count//BATCH_SIZE\n",
    "validation_steps = test_count//BATCH_SIZE"
   ]
  },
  {
   "cell_type": "code",
   "execution_count": 32,
   "metadata": {
    "execution": {
     "iopub.execute_input": "2021-01-29T03:02:43.042438Z",
     "iopub.status.busy": "2021-01-29T03:02:43.041875Z",
     "iopub.status.idle": "2021-01-29T03:14:08.627575Z",
     "shell.execute_reply": "2021-01-29T03:14:08.628430Z"
    },
    "papermill": {
     "duration": 685.614498,
     "end_time": "2021-01-29T03:14:08.628655",
     "exception": false,
     "start_time": "2021-01-29T03:02:43.014157",
     "status": "completed"
    },
    "tags": []
   },
   "outputs": [
    {
     "name": "stdout",
     "output_type": "stream",
     "text": [
      "Epoch 1/10\n",
      "200/200 [==============================] - 99s 458ms/step - loss: 5.5578 - acc: 0.0205 - val_loss: 6.3020 - val_acc: 0.0025\n",
      "Epoch 2/10\n",
      "200/200 [==============================] - 65s 327ms/step - loss: 4.8428 - acc: 0.0393 - val_loss: 6.4313 - val_acc: 0.0063\n",
      "Epoch 3/10\n",
      "200/200 [==============================] - 65s 327ms/step - loss: 4.5200 - acc: 0.0628 - val_loss: 5.0546 - val_acc: 0.0237\n",
      "Epoch 4/10\n",
      "200/200 [==============================] - 65s 325ms/step - loss: 4.2768 - acc: 0.0784 - val_loss: 4.5336 - val_acc: 0.0681\n",
      "Epoch 5/10\n",
      "200/200 [==============================] - 65s 323ms/step - loss: 4.0802 - acc: 0.1040 - val_loss: 4.5367 - val_acc: 0.0769\n",
      "Epoch 6/10\n",
      "200/200 [==============================] - 65s 326ms/step - loss: 3.8390 - acc: 0.1406 - val_loss: 4.5110 - val_acc: 0.0844\n",
      "Epoch 7/10\n",
      "200/200 [==============================] - 65s 325ms/step - loss: 3.6772 - acc: 0.1577 - val_loss: 4.1850 - val_acc: 0.1119\n",
      "Epoch 8/10\n",
      "200/200 [==============================] - 65s 326ms/step - loss: 3.4571 - acc: 0.1988 - val_loss: 4.2534 - val_acc: 0.1094\n",
      "Epoch 9/10\n",
      "200/200 [==============================] - 65s 326ms/step - loss: 3.2413 - acc: 0.2274 - val_loss: 4.0914 - val_acc: 0.1187\n",
      "Epoch 10/10\n",
      "200/200 [==============================] - 65s 326ms/step - loss: 3.0473 - acc: 0.2636 - val_loss: 3.9466 - val_acc: 0.1406\n"
     ]
    }
   ],
   "source": [
    "history = model.fit(\n",
    "    train_ds,epochs=10,\n",
    "    steps_per_epoch=steps_per_epoch,\n",
    "    validation_data=test_ds,\n",
    "    validation_steps=validation_steps)"
   ]
  },
  {
   "cell_type": "code",
   "execution_count": 33,
   "metadata": {
    "execution": {
     "iopub.execute_input": "2021-01-29T03:14:09.698331Z",
     "iopub.status.busy": "2021-01-29T03:14:09.697491Z",
     "iopub.status.idle": "2021-01-29T03:14:09.700124Z",
     "shell.execute_reply": "2021-01-29T03:14:09.700530Z"
    },
    "papermill": {
     "duration": 0.538546,
     "end_time": "2021-01-29T03:14:09.700655",
     "exception": false,
     "start_time": "2021-01-29T03:14:09.162109",
     "status": "completed"
    },
    "tags": []
   },
   "outputs": [
    {
     "data": {
      "text/plain": [
       "dict_keys(['loss', 'acc', 'val_loss', 'val_acc'])"
      ]
     },
     "execution_count": 33,
     "metadata": {},
     "output_type": "execute_result"
    }
   ],
   "source": [
    "history.history.keys()"
   ]
  },
  {
   "cell_type": "code",
   "execution_count": 34,
   "metadata": {
    "execution": {
     "iopub.execute_input": "2021-01-29T03:14:10.786689Z",
     "iopub.status.busy": "2021-01-29T03:14:10.785877Z",
     "iopub.status.idle": "2021-01-29T03:14:10.926389Z",
     "shell.execute_reply": "2021-01-29T03:14:10.926872Z"
    },
    "papermill": {
     "duration": 0.696449,
     "end_time": "2021-01-29T03:14:10.927032",
     "exception": false,
     "start_time": "2021-01-29T03:14:10.230583",
     "status": "completed"
    },
    "tags": []
   },
   "outputs": [
    {
     "data": {
      "text/plain": [
       "<matplotlib.legend.Legend at 0x7fdc09f1e850>"
      ]
     },
     "execution_count": 34,
     "metadata": {},
     "output_type": "execute_result"
    },
    {
     "data": {
      "image/png": "[encoded data removed]",
      "text/plain": [
       "<Figure size 432x288 with 1 Axes>"
      ]
     },
     "metadata": {
      "needs_background": "light"
     },
     "output_type": "display_data"
    }
   ],
   "source": [
    "plt.plot(history.epoch,history.history.get('acc'),label='acc')\n",
    "plt.plot(history.epoch,history.history.get('val_acc'),label='val_acc')\n",
    "plt.legend()"
   ]
  },
  {
   "cell_type": "code",
   "execution_count": 35,
   "metadata": {
    "execution": {
     "iopub.execute_input": "2021-01-29T03:14:12.001631Z",
     "iopub.status.busy": "2021-01-29T03:14:11.999611Z",
     "iopub.status.idle": "2021-01-29T03:14:12.129445Z",
     "shell.execute_reply": "2021-01-29T03:14:12.128968Z"
    },
    "papermill": {
     "duration": 0.67622,
     "end_time": "2021-01-29T03:14:12.129563",
     "exception": false,
     "start_time": "2021-01-29T03:14:11.453343",
     "status": "completed"
    },
    "tags": []
   },
   "outputs": [
    {
     "data": {
      "text/plain": [
       "<matplotlib.legend.Legend at 0x7fdc0814af90>"
      ]
     },
     "execution_count": 35,
     "metadata": {},
     "output_type": "execute_result"
    },
    {
     "data": {
      "image/png": "[encoded data removed]",
      "text/plain": [
       "<Figure size 432x288 with 1 Axes>"
      ]
     },
     "metadata": {
      "needs_background": "light"
     },
     "output_type": "display_data"
    }
   ],
   "source": [
    "plt.plot(history.epoch,history.history.get('loss'),label='loss')\n",
    "plt.plot(history.epoch,history.history.get('val_loss'),label='val_loss')\n",
    "plt.legend()"
   ]
  },
  {
   "cell_type": "code",
   "execution_count": 36,
   "metadata": {
    "execution": {
     "iopub.execute_input": "2021-01-29T03:14:13.206576Z",
     "iopub.status.busy": "2021-01-29T03:14:13.205967Z",
     "iopub.status.idle": "2021-01-29T03:14:13.209587Z",
     "shell.execute_reply": "2021-01-29T03:14:13.209153Z"
    },
    "papermill": {
     "duration": 0.540948,
     "end_time": "2021-01-29T03:14:13.209711",
     "exception": false,
     "start_time": "2021-01-29T03:14:12.668763",
     "status": "completed"
    },
    "tags": []
   },
   "outputs": [],
   "source": [
    "def load_and_preprocess_image(path):\n",
    "    image = tf.io.read_file(path)\n",
    "    image = tf.image.decode_jpeg(image,channels=3)\n",
    "    image = tf.image.resize(image,[256,256])\n",
    "    image = tf.cast(image,tf.float32)\n",
    "    image = image/255\n",
    "    return image"
   ]
  },
  {
   "cell_type": "code",
   "execution_count": 37,
   "metadata": {
    "execution": {
     "iopub.execute_input": "2021-01-29T03:14:14.316051Z",
     "iopub.status.busy": "2021-01-29T03:14:14.315380Z",
     "iopub.status.idle": "2021-01-29T03:14:14.740453Z",
     "shell.execute_reply": "2021-01-29T03:14:14.739941Z"
    },
    "papermill": {
     "duration": 1.000632,
     "end_time": "2021-01-29T03:14:14.740601",
     "exception": false,
     "start_time": "2021-01-29T03:14:13.739969",
     "status": "completed"
    },
    "tags": []
   },
   "outputs": [],
   "source": [
    "test_img = '../input/birds-200/birds_train/002.Laysan_Albatross/0.jpg'\n",
    "test_tensor = load_and_preprocess_image(test_img)\n",
    "test_tensor = tf.expand_dims(test_tensor,axis=0)\n",
    "pred = model.predict(test_tensor)"
   ]
  },
  {
   "cell_type": "code",
   "execution_count": 38,
   "metadata": {
    "execution": {
     "iopub.execute_input": "2021-01-29T03:14:15.888851Z",
     "iopub.status.busy": "2021-01-29T03:14:15.888305Z",
     "iopub.status.idle": "2021-01-29T03:14:15.894126Z",
     "shell.execute_reply": "2021-01-29T03:14:15.893719Z"
    },
    "papermill": {
     "duration": 0.600973,
     "end_time": "2021-01-29T03:14:15.894314",
     "exception": false,
     "start_time": "2021-01-29T03:14:15.293341",
     "status": "completed"
    },
    "tags": []
   },
   "outputs": [
    {
     "data": {
      "text/plain": [
       "'Long_tailed_Jaeger'"
      ]
     },
     "execution_count": 38,
     "metadata": {},
     "output_type": "execute_result"
    }
   ],
   "source": [
    "index_to_label.get(np.argmax(pred))"
   ]
  }
 ],
 "metadata": {
  "kernelspec": {
   "display_name": "Python 3",
   "language": "python",
   "name": "python3"
  },
  "language_info": {
   "codemirror_mode": {
    "name": "ipython",
    "version": 3
   },
   "file_extension": ".py",
   "mimetype": "text/x-python",
   "name": "python",
   "nbconvert_exporter": "python",
   "pygments_lexer": "ipython3",
   "version": "3.7.9"
  },
  "papermill": {
   "default_parameters": {},
   "duration": 714.01092,
   "end_time": "2021-01-29T03:14:19.058394",
   "environment_variables": {},
   "exception": null,
   "input_path": "__notebook__.ipynb",
   "output_path": "__notebook__.ipynb",
   "parameters": {},
   "start_time": "2021-01-29T03:02:25.047474",
   "version": "2.2.2"
  }
 },
 "nbformat": 4,
 "nbformat_minor": 4
}
